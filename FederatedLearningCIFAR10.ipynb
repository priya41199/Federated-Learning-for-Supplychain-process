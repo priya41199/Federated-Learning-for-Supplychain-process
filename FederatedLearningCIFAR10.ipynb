{
 "cells": [
  {
   "cell_type": "code",
   "execution_count": 28,
   "id": "5c7ca894-2fc2-4bc4-aa86-70ec31507df9",
   "metadata": {},
   "outputs": [],
   "source": [
    "#Import statements\n",
    "\n",
    "import os\n",
    "import random\n",
    "from tqdm import tqdm\n",
    "import numpy as np\n",
    "import torch\n",
    "import torchvision\n",
    "import torch.nn as nn\n",
    "import torch.nn.functional as F\n",
    "import torch.optim as optim\n",
    "from torchvision import datasets, transforms\n",
    "from torch.utils.data.dataset import Dataset\n",
    "from torchvision import transforms \n",
    "from torchvision.transforms import Compose \n",
    "torch.backends.cudnn.benchmark=True"
   ]
  },
  {
   "cell_type": "code",
   "execution_count": 29,
   "id": "aa619136-580a-496d-a941-5e6b3c602c85",
   "metadata": {},
   "outputs": [],
   "source": [
    "\n",
    "classes_pc = 2\n",
    "num_clients = 20\n",
    "num_selected = 6\n",
    "num_rounds = 150\n",
    "epochs = 5 # for decentralized run / local run\n",
    "batch_size = 32\n",
    "baseline_num = 100 #for central server \n",
    "retrain_epochs = 20 # for global iterations"
   ]
  },
  {
   "cell_type": "code",
   "execution_count": 30,
   "id": "db9d1297-14de-43cf-9502-e4a4562bf389",
   "metadata": {},
   "outputs": [],
   "source": [
    "#Loading the dataset\n",
    "\n",
    "def get_cifar10():\n",
    "  '''Return CIFAR10 train/test data and labels as numpy arrays'''\n",
    "  data_train = torchvision.datasets.CIFAR10('./data', train=True, download=True)\n",
    "  data_test = torchvision.datasets.CIFAR10('./data', train=False, download=True) \n",
    "  \n",
    "  x_train, y_train = data_train.data.transpose((0,3,1,2)), np.array(data_train.targets)\n",
    "  x_test, y_test = data_test.data.transpose((0,3,1,2)), np.array(data_test.targets)\n",
    "  \n",
    "  return x_train, y_train, x_test, y_test\n",
    "\n",
    "def print_image_data_stats(data_train, labels_train, data_test, labels_test):\n",
    "  print(\"\\nData: \")\n",
    "  print(\" - Train Set: ({},{}), Range: [{:.3f}, {:.3f}], Labels: {},..,{}\".format(\n",
    "    data_train.shape, labels_train.shape, np.min(data_train), np.max(data_train),\n",
    "      np.min(labels_train), np.max(labels_train)))\n",
    "  print(\" - Test Set: ({},{}), Range: [{:.3f}, {:.3f}], Labels: {},..,{}\".format(\n",
    "    data_test.shape, labels_test.shape, np.min(data_train), np.max(data_train),\n",
    "      np.min(labels_test), np.max(labels_test)))"
   ]
  },
  {
   "cell_type": "code",
   "execution_count": 31,
   "id": "ea0577e6-79bb-44d2-9bd0-49a8f493a052",
   "metadata": {},
   "outputs": [],
   "source": [
    "## Classes per client distribution\n",
    "\n",
    "# nclients=10\n",
    "# train_len = 10000\n",
    "# # def clients_rand(train_len, nclients):\n",
    "# client_tmp=[]\n",
    "# sum_=0\n",
    "# #### creating random values for each client ####\n",
    "# for i in range(nclients-1):\n",
    "#     tmp=random.randint(10,100)\n",
    "#     sum_+=tmp\n",
    "#     client_tmp.append(tmp)\n",
    "#     print(client_tmp)\n",
    "# client_tmp= np.array(client_tmp)\n",
    "# print(client_tmp)\n",
    "# #### using those random values as weights ####\n",
    "# clients_dist= ((client_tmp/sum_)*train_len).astype(int)\n",
    "# print(clients_dist)\n",
    "# num  = train_len - clients_dist.sum()\n",
    "# print(num)\n",
    "# to_ret = list(clients_dist)\n",
    "# print(to_ret)\n",
    "# to_ret.append(num)\n",
    "# print(to_ret)"
   ]
  },
  {
   "cell_type": "code",
   "execution_count": 32,
   "id": "3f6eedaa-ebda-4007-ad4a-9cbe179162d4",
   "metadata": {},
   "outputs": [],
   "source": [
    "def clients_rand(train_len, nclients):\n",
    "  '''\n",
    "  train_len: size of the train data\n",
    "  nclients: number of clients\n",
    "  \n",
    "  Returns: to_ret\n",
    "  \n",
    "  This function creates a random distribution \n",
    "  for the clients, i.e. number of images each client \n",
    "  possess.\n",
    "  '''\n",
    "  client_tmp=[]\n",
    "  sum_=0\n",
    "  #### creating random values for each client ####\n",
    "  for i in range(nclients-1):\n",
    "    tmp=random.randint(10,100)\n",
    "    sum_+=tmp\n",
    "    client_tmp.append(tmp)\n",
    "\n",
    "  client_tmp= np.array(client_tmp)\n",
    "  #### using those random values as weights ####\n",
    "  clients_dist= ((client_tmp/sum_)*train_len).astype(int)\n",
    "  num  = train_len - clients_dist.sum()\n",
    "  to_ret = list(clients_dist)\n",
    "  to_ret.append(num)\n",
    "  return to_ret"
   ]
  },
  {
   "cell_type": "code",
   "execution_count": 33,
   "id": "69dfc81d-dd9b-4939-8f39-68407b80276c",
   "metadata": {},
   "outputs": [],
   "source": [
    "\n",
    "\n",
    "def split_image_data(data, labels, n_clients=100, classes_per_client=10, shuffle=True, verbose=True):\n",
    "    '''\n",
    "    Splits (data, labels) among 'n_clients s.t. every client can hold 'classes_per_client' number of classes\n",
    "    Input:\n",
    "      data : [n_data x shape]\n",
    "      labels : [n_data (x 1)] from 0 to n_labels\n",
    "      n_clients : number of clients\n",
    "      classes_per_client : number of classes per client\n",
    "      shuffle : True/False => True for shuffling the dataset, False otherwise\n",
    "      verbose : True/False => True for printing some info, False otherwise\n",
    "    Output:\n",
    "      clients_split : client data into desired format\n",
    "    '''\n",
    "    #### constants #### \n",
    "    n_data = data.shape[0]\n",
    "    n_labels = np.max(labels) + 1\n",
    "\n",
    "    ### client distribution ####\n",
    "    data_per_client = clients_rand(len(data), n_clients)\n",
    "    data_per_client_per_class = [np.maximum(1, nd // classes_per_client) for nd in data_per_client]\n",
    "\n",
    "    # sort for labels\n",
    "    data_idcs = [[] for i in range(n_labels)]\n",
    "    for j, label in enumerate(labels):\n",
    "        data_idcs[label] += [j]\n",
    "    if shuffle:\n",
    "        for idcs in data_idcs:\n",
    "            np.random.shuffle(idcs)\n",
    "\n",
    "    # split data among clients\n",
    "    clients_split = []\n",
    "    c = 0\n",
    "    for i in range(n_clients):\n",
    "        client_idcs = []\n",
    "\n",
    "        budget = data_per_client[i]\n",
    "        c = np.random.randint(n_labels)\n",
    "        while budget > 0:\n",
    "            take = min(data_per_client_per_class[i], len(data_idcs[c]), budget)\n",
    "\n",
    "            client_idcs += data_idcs[c][:take]\n",
    "            data_idcs[c] = data_idcs[c][take:]\n",
    "\n",
    "            budget -= take\n",
    "            c = (c + 1) % n_labels\n",
    "\n",
    "        client_data = data[client_idcs]\n",
    "        client_labels = labels[client_idcs]\n",
    "\n",
    "        # Ensure client data is consistent\n",
    "        assert len(client_data) == len(client_labels), f\"Inconsistent client data: {len(client_data)} vs {len(client_labels)}\"\n",
    "        clients_split.append((client_data, client_labels))\n",
    "\n",
    "    if verbose:\n",
    "        print(\"Data split:\")\n",
    "        for i, client in enumerate(clients_split):\n",
    "            split = np.sum(client[1].reshape(1, -1) == np.arange(n_labels).reshape(-1, 1), axis=1)\n",
    "            print(f\" - Client {i}: {split}\")\n",
    "        print()\n",
    "\n",
    "    return clients_split\n",
    "\n",
    "\n",
    "\n",
    "\n",
    "\n",
    "\n",
    "\n",
    "\n"
   ]
  },
  {
   "cell_type": "code",
   "execution_count": 34,
   "id": "c552b4b9-3c40-4341-83bc-5069f2efce41",
   "metadata": {},
   "outputs": [],
   "source": [
    "def shuffle_list_data(x, y):\n",
    
    "  inds = list(range(len(x)))\n",
    "  random.shuffle(inds)\n",
    "  return x[inds],y[inds]\n"
   ]
  },
  {
   "cell_type": "code",
   "execution_count": 49,
   "id": "bc942a89-38e4-46e7-b81a-9b38bfd688a3",
   "metadata": {},
   "outputs": [],
   "source": [
    "def print_split(clients_split): \n",
    "    print(\"Data split:\")\n",
    "    for i, client in enumerate(clients_split):\n",
    "      split = np.sum(client[1].reshape(1,-1)==np.arange(n_labels).reshape(-1,1), axis=1)\n",
    "      print(\" - Client {}: {}\".format(i,split))\n",
    "    print()\n",
    "      \n",
    "    if verbose:\n",
    "      print_split(clients_split)\n",
    "  \n",
    "    clients_split = np.array(clients_split)\n",
    "  \n",
    "    return clients_split\n",
    "\n",
    "\n",
    "def shuffle_list(data):\n",
    "    '''\n",
    "    This function returns the shuffled data\n",
    "    '''\n",
    "    shuffled_data = []\n",
    "    for i in range(len(data)):\n",
    "        tmp_len = len(data[i][0])\n",
    "        index = [i for i in range(tmp_len)]\n",
    "        random.shuffle(index)\n",
    "        shuffled_inputs, shuffled_labels = shuffle_list_data(data[i][0], data[i][1])\n",
    "        shuffled_data.append((shuffled_inputs, shuffled_labels))\n",
    "    return shuffled_data\n"
   ]
  },
  {
   "cell_type": "code",
   "execution_count": 36,
   "id": "b3df2f52-405c-478f-a894-bcdec3821e1f",
   "metadata": {},
   "outputs": [],
   "source": [
    "class CustomImageDataset(Dataset):\n",
    "  '''\n",
    "  A custom Dataset class for images\n",
    "  inputs : numpy array [n_data x shape]\n",
    "  labels : numpy array [n_data (x 1)]\n",
    "  '''\n",
    "  def __init__(self, inputs, labels, transforms=None):\n",
    "      assert inputs.shape[0] == labels.shape[0]\n",
    "      self.inputs = torch.Tensor(inputs)\n",
    "      self.labels = torch.Tensor(labels).long()\n",
    "      self.transforms = transforms \n",
    "\n",
    "  def __getitem__(self, index):\n",
    "      img, label = self.inputs[index], self.labels[index]\n",
    "\n",
    "      if self.transforms is not None:\n",
    "        img = self.transforms(img)\n",
    "\n",
    "      return (img, label)\n",
    "\n",
    "  def __len__(self):\n",
    "      return self.inputs.shape[0]\n",
    "          \n"
   ]
  },
  {
   "cell_type": "code",
   "execution_count": 37,
   "id": "345062bf-0918-40bb-9ff8-103cbcad1beb",
   "metadata": {},
   "outputs": [],
   "source": [
    "def get_default_data_transforms(train=True, verbose=True):\n",
    "  transforms_train = {\n",
    "  'cifar10' : transforms.Compose([\n",
    "    transforms.ToPILImage(),\n",
    "    transforms.RandomCrop(32, padding=4),\n",
    "    transforms.RandomHorizontalFlip(),\n",
    "    transforms.ToTensor(),\n",
    "    transforms.Normalize((0.4914, 0.4822, 0.4465), (0.2023, 0.1994, 0.2010))]),#(0.24703223, 0.24348513, 0.26158784)\n",
    "  }\n",
    "  transforms_eval = {    \n",
    "  'cifar10' : transforms.Compose([\n",
    "    transforms.ToPILImage(),\n",
    "    transforms.ToTensor(),\n",
    "    transforms.Normalize((0.4914, 0.4822, 0.4465), (0.2023, 0.1994, 0.2010))])\n",
    "  }\n",
    "  if verbose:\n",
    "    print(\"\\nData preprocessing: \")\n",
    "    for transformation in transforms_train['cifar10'].transforms:\n",
    "      print(' -', transformation)\n",
    "    print()\n",
    "\n",
    "  return (transforms_train['cifar10'], transforms_eval['cifar10'])\n"
   ]
  },
  {
   "cell_type": "code",
   "execution_count": 48,
   "id": "bf0db09c-f1f4-4cb9-a6b9-2fb3284517e6",
   "metadata": {},
   "outputs": [],
   "source": [
    "def get_data_loaders(nclients, batch_size, classes_pc=10, verbose=True):\n",
    "    x_train, y_train, x_test, y_test = get_cifar10()\n",
    "\n",
    "    if verbose:\n",
    "        print_image_data_stats(x_train, y_train, x_test, y_test)\n",
    "\n",
    "    transforms_train, transforms_eval = get_default_data_transforms(verbose=False)\n",
    "  \n",
    "    split = split_image_data(x_train, y_train, n_clients=nclients, classes_per_client=classes_pc, verbose=verbose)\n",
    "  \n",
    "    split_tmp = shuffle_list(split)\n",
    "  \n",
    "    client_loaders = [torch.utils.data.DataLoader(CustomImageDataset(x, y, transforms_train), \n",
    "                                                  batch_size=batch_size, shuffle=True) for x, y in split_tmp]\n",
    "\n",
    "    test_loader  = torch.utils.data.DataLoader(CustomImageDataset(x_test, y_test, transforms_eval), batch_size=100, shuffle=False) \n",
    "\n",
    "    return client_loaders, test_loader\n"
   ]
  },
  {
   "cell_type": "code",
   "execution_count": 39,
   "id": "6fc7043e-8ec3-4160-85da-554ffda47b95",
   "metadata": {},
   "outputs": [],
   "source": [
    "\n",
    "cfg = {\n",
    "    'VGG11': [64, 'M', 128, 'M', 256, 256, 'M', 512, 512, 'M', 512, 512, 'M'],\n",
    "    'VGG13': [64, 64, 'M', 128, 128, 'M', 256, 256, 'M', 512, 512, 'M', 512, 512, 'M'],\n",
    "    'VGG16': [64, 64, 'M', 128, 128, 'M', 256, 256, 256, 'M', 512, 512, 512, 'M', 512, 512, 512, 'M'],\n",
    "    'VGG19': [64, 64, 'M', 128, 128, 'M', 256, 256, 256, 256, 'M', 512, 512, 512, 512, 'M', 512, 512, 512, 512, 'M'],\n",
    "}\n",
    "\n",
    "class VGG(nn.Module):\n",
    "    def __init__(self, vgg_name):\n",
    "        super(VGG, self).__init__()\n",
    "        self.features = self._make_layers(cfg[vgg_name])\n",
    "        self.classifier = nn.Sequential(\n",
    "            nn.Linear(512, 512),\n",
    "            nn.ReLU(True),\n",
    "            nn.Linear(512, 512),\n",
    "            nn.ReLU(True),\n",
    "            nn.Linear(512, 10)\n",
    "        )\n",
    "\n",
    "    def forward(self, x):\n",
    "        out = self.features(x)\n",
    "        out = out.view(out.size(0), -1)\n",
    "        out = self.classifier(out)\n",
    "        output = F.log_softmax(out, dim=1)\n",
    "        return output\n",
    "\n",
    "    def _make_layers(self, cfg):\n",
    "        layers = []\n",
    "        in_channels = 3\n",
    "        for x in cfg:\n",
    "            if x == 'M':\n",
    "                layers += [nn.MaxPool2d(kernel_size=2, stride=2)]\n",
    "            else:\n",
    "                layers += [nn.Conv2d(in_channels, x, kernel_size=3, padding=1),\n",
    "                           nn.BatchNorm2d(x),\n",
    "                           nn.ReLU(inplace=True)]\n",
    "                in_channels = x\n",
    "        layers += [nn.AvgPool2d(kernel_size=1, stride=1)]\n",
    "        return nn.Sequential(*layers)\n"
   ]
  },
  {
   "cell_type": "code",
   "execution_count": 40,
   "id": "8819fea0-ca65-49df-94ed-d2bd36c3a919",
   "metadata": {},
   "outputs": [],
   "source": [
    "def baseline_data(num):\n",
    "  '''\n",
    "  Returns baseline data loader to be used on retraining on global server\n",
    "  Input:\n",
    "        num : size of baseline data\n",
    "  Output:\n",
    "        loader: baseline data loader\n",
    "  '''\n",
    "  xtrain, ytrain, xtmp,ytmp = get_cifar10()\n",
    "  x , y = shuffle_list_data(xtrain, ytrain)\n",
    "\n",
    "  x, y = x[:num], y[:num]\n",
    "  transform, _ = get_default_data_transforms(train=True, verbose=False)\n",
    "  loader = torch.utils.data.DataLoader(CustomImageDataset(x, y, transform), batch_size=16, shuffle=True)\n",
    "\n",
    "  return loader\n",
    "    "
   ]
  },
  {
   "cell_type": "code",
   "execution_count": 41,
   "id": "8bc225bb-111b-477f-ad47-9b1b277f2c6e",
   "metadata": {},
   "outputs": [],
   "source": [
    "def client_update(client_model, optimizer, train_loader, epoch=5):\n",
    "    \"\"\"\n",
    "    This function updates/trains client model on client data\n",
    "    \"\"\"\n",
    "    model.train()\n",
    "    for e in range(epoch):\n",
    "        for batch_idx, (data, target) in enumerate(train_loader):\n",
    "            data, target = data.cuda(), target.cuda()\n",
    "            optimizer.zero_grad()\n",
    "            output = client_model(data)\n",
    "            loss = F.nll_loss(output, target)\n",
    "            loss.backward()\n",
    "            optimizer.step()\n",
    "    return loss.item()"
   ]
  },
  {
   "cell_type": "code",
   "execution_count": 43,
   "id": "f1c9bcaf-734c-4cef-a2a3-4c5dfb4d86a0",
   "metadata": {},
   "outputs": [],
   "source": [
    "def client_syn(client_model, global_model):\n",
    "    client_model.load_state_dict(global_model.state_dict())"
   ]
  },
  {
   "cell_type": "code",
   "execution_count": 44,
   "id": "1d692ae7-c715-4187-8ef3-ef66a3f4fc06",
   "metadata": {},
   "outputs": [],
   "source": [
    "def server_aggregate(global_model, client_models,client_lens):\n",
    "    \"\"\"\n",
    "    This function has aggregation method 'wmean'\n",
    "    wmean takes the weighted mean of the weights of models\n",
    "    \"\"\"\n",
    "    total = sum(client_lens)\n",
    "    n = len(client_models)\n",
    "    global_dict = global_model.state_dict()\n",
    "    for k in global_dict.keys():\n",
    "        global_dict[k] = torch.stack([client_models[i].state_dict()[k].float()*(n*client_lens[i]/total) for i in range(len(client_models))], 0).mean(0)\n",
    "    global_model.load_state_dict(global_dict)\n",
    "    for model in client_models:\n",
    "        model.load_state_dict(global_model.state_dict())"
   ]
  },
  {
   "cell_type": "code",
   "execution_count": 45,
   "id": "a5de25c9-4053-4699-9e6a-76bc98cabe09",
   "metadata": {},
   "outputs": [],
   "source": [
    "def test(global_model, test_loader):\n",
    "    \"\"\"\n",
    "    This function test the global model on test \n",
    "    data and returns test loss and test accuracy \n",
    "    \"\"\"\n",
    "    model.eval()\n",
    "    test_loss = 0\n",
    "    correct = 0\n",
    "    with torch.no_grad():\n",
    "        for data, target in test_loader:\n",
    "            data, target = data.cuda(), target.cuda()\n",
    "            output = global_model(data)\n",
    "            test_loss += F.nll_loss(output, target, reduction='sum').item()  # sum up batch loss\n",
    "            pred = output.argmax(dim=1, keepdim=True)  # get the index of the max log-probability\n",
    "            correct += pred.eq(target.view_as(pred)).sum().item()\n",
    "\n",
    "    test_loss /= len(test_loader.dataset)\n",
    "    acc = correct / len(test_loader.dataset)\n",
    "\n",
    "    return test_loss, acc"
   ]
  },
  {
   "cell_type": "code",
   "execution_count": 46,
   "id": "29c822fc-f4f6-4166-808c-1404f3be125d",
   "metadata": {},
   "outputs": [
    {
     "name": "stdout",
     "output_type": "stream",
     "text": [
      "Files already downloaded and verified\n",
      "Files already downloaded and verified\n"
     ]
    }
   ],
   "source": [
    "#### global model ##########\n",
    "global_model =  VGG('VGG19').cuda()\n",
    "\n",
    "############# client models ###############################\n",
    "client_models = [ VGG('VGG19').cuda() for _ in range(num_selected)]\n",
    "for model in client_models:\n",
    "    model.load_state_dict(global_model.state_dict()) ### initial synchronizing with global modle \n",
    "\n",
    "###### optimizers ################\n",
    "opt = [optim.SGD(model.parameters(), lr=0.01) for model in client_models]\n",
    "\n",
    "####### baseline data ############\n",
    "loader_fixed = baseline_data(baseline_num)"
   ]
  },
  {
   "cell_type": "code",
   "execution_count": 50,
   "id": "2a318096-f395-415c-be39-6de44ba249ef",
   "metadata": {},
   "outputs": [
    {
     "name": "stdout",
     "output_type": "stream",
     "text": [
      "Files already downloaded and verified\n",
      "Files already downloaded and verified\n",
      "\n",
      "Data: \n",
      " - Train Set: ((50000, 3, 32, 32),(50000,)), Range: [0.000, 255.000], Labels: 0,..,9\n",
      " - Test Set: ((10000, 3, 32, 32),(10000,)), Range: [0.000, 255.000], Labels: 0,..,9\n",
      "Data split:\n",
      " - Client 0: [1555 1555    0    0    0    0    0    0    0    0]\n",
      " - Client 1: [  0   0   0   0   0 662 662   0   0   0]\n",
      " - Client 2: [   0    0    0    0    0    0    0 2304 2304    0]\n",
      " - Client 3: [2390    1    0    0    0    0    0    0    0 2390]\n",
      " - Client 4: [  0   0   0   0   0   0   0 547 547   0]\n",
      " - Client 5: [   0    0 1468 1468    1    0    0    0    0    0]\n",
      " - Client 6: [   0    0 2505 2505    1    0    0    0    0    0]\n",
      " - Client 7: [403 403   0   0   0   0   0   0   0   0]\n",
      " - Client 8: [  0   0   0   0   0 432 432   0   0   0]\n",
      " - Client 9: [   0    0    0 1027 1584  557    0    0    0    0]\n",
      " - Client 10: [   0    0    0    0 2044 2044    1    0    0    0]\n",
      " - Client 11: [  0   0   0   0 806 806   0   0   0   0]\n",
      " - Client 12: [  0   0   0   0   0   0 518 518   0   0]\n",
      " - Client 13: [   0    0    0    0  564  499 1209  147    0    0]\n",
      " - Client 14: [   0    0    0    0    0    0 2178 1484 1291    0]\n",
      " - Client 15: [ 652 1324  673    0    0    0    0    0    0    0]\n",
      " - Client 16: [   0  372  354    0    0    0    0    0  858 1584]\n",
      " - Client 17: [  0 835   0   0   0   0   0   0   0 835]\n",
      " - Client 18: [  0 500   0   0   0   0   0   0   0 191]\n",
      " - Client 19: [ 0 10  0  0  0  0  0  0  0  0]\n",
      "\n"
     ]
    }
   ],
   "source": [
    "###### Loading the data using the above function ######\n",
    "train_loader, test_loader = get_data_loaders(classes_pc=classes_pc, nclients= num_clients,\n",
    "                                                      batch_size=batch_size,verbose=True)"
   ]
  },
  {
   "cell_type": "code",
   "execution_count": 52,
   "id": "1954a2df-8f4b-4c3a-870b-be89ca2dbc67",
   "metadata": {},
   "outputs": [
    {
     "name": "stderr",
     "output_type": "stream",
     "text": [
      "100%|████████████████████████████████████████████████████████████████████████████████████| 6/6 [01:28<00:00, 14.73s/it]\n",
      "100%|████████████████████████████████████████████████████████████████████████████████████| 6/6 [00:19<00:00,  3.33s/it]\n"
     ]
    },
    {
     "name": "stdout",
     "output_type": "stream",
     "text": [
      "0-th round\n",
      "average train loss 1.88 | test loss 2.14 | test acc: 0.194\n"
     ]
    },
    {
     "name": "stderr",
     "output_type": "stream",
     "text": [
      "100%|████████████████████████████████████████████████████████████████████████████████████| 6/6 [01:12<00:00, 12.14s/it]\n",
      "100%|████████████████████████████████████████████████████████████████████████████████████| 6/6 [00:21<00:00,  3.52s/it]\n"
     ]
    },
    {
     "name": "stdout",
     "output_type": "stream",
     "text": [
      "1-th round\n",
      "average train loss 1.53 | test loss 1.99 | test acc: 0.285\n"
     ]
    },
    {
     "name": "stderr",
     "output_type": "stream",
     "text": [
      "100%|████████████████████████████████████████████████████████████████████████████████████| 6/6 [01:18<00:00, 13.11s/it]\n",
      "100%|████████████████████████████████████████████████████████████████████████████████████| 6/6 [00:23<00:00,  3.85s/it]\n"
     ]
    },
    {
     "name": "stdout",
     "output_type": "stream",
     "text": [
      "2-th round\n",
      "average train loss 1.19 | test loss 2.04 | test acc: 0.335\n"
     ]
    },
    {
     "name": "stderr",
     "output_type": "stream",
     "text": [
      "100%|████████████████████████████████████████████████████████████████████████████████████| 6/6 [00:51<00:00,  8.53s/it]\n",
      "100%|████████████████████████████████████████████████████████████████████████████████████| 6/6 [00:22<00:00,  3.67s/it]\n"
     ]
    },
    {
     "name": "stdout",
     "output_type": "stream",
     "text": [
      "3-th round\n",
      "average train loss 1.05 | test loss 2.03 | test acc: 0.394\n"
     ]
    },
    {
     "name": "stderr",
     "output_type": "stream",
     "text": [
      "100%|████████████████████████████████████████████████████████████████████████████████████| 6/6 [01:10<00:00, 11.81s/it]\n",
      "100%|████████████████████████████████████████████████████████████████████████████████████| 6/6 [00:21<00:00,  3.51s/it]\n"
     ]
    },
    {
     "name": "stdout",
     "output_type": "stream",
     "text": [
      "4-th round\n",
      "average train loss 0.821 | test loss 2.21 | test acc: 0.422\n"
     ]
    },
    {
     "name": "stderr",
     "output_type": "stream",
     "text": [
      "100%|████████████████████████████████████████████████████████████████████████████████████| 6/6 [01:16<00:00, 12.76s/it]\n",
      "100%|████████████████████████████████████████████████████████████████████████████████████| 6/6 [00:21<00:00,  3.51s/it]\n"
     ]
    },
    {
     "name": "stdout",
     "output_type": "stream",
     "text": [
      "5-th round\n",
      "average train loss 0.447 | test loss 2.35 | test acc: 0.439\n"
     ]
    },
    {
     "name": "stderr",
     "output_type": "stream",
     "text": [
      "100%|████████████████████████████████████████████████████████████████████████████████████| 6/6 [00:56<00:00,  9.47s/it]\n",
      "100%|████████████████████████████████████████████████████████████████████████████████████| 6/6 [04:37<00:00, 46.21s/it]\n"
     ]
    },
    {
     "name": "stdout",
     "output_type": "stream",
     "text": [
      "6-th round\n",
      "average train loss 0.68 | test loss 2.4 | test acc: 0.438\n"
     ]
    },
    {
     "name": "stderr",
     "output_type": "stream",
     "text": [
      "100%|████████████████████████████████████████████████████████████████████████████████████| 6/6 [01:30<00:00, 15.16s/it]\n",
      "100%|████████████████████████████████████████████████████████████████████████████████████| 6/6 [00:30<00:00,  5.15s/it]\n"
     ]
    },
    {
     "name": "stdout",
     "output_type": "stream",
     "text": [
      "7-th round\n",
      "average train loss 0.192 | test loss 2.48 | test acc: 0.463\n"
     ]
    },
    {
     "name": "stderr",
     "output_type": "stream",
     "text": [
      "100%|████████████████████████████████████████████████████████████████████████████████████| 6/6 [02:14<00:00, 22.42s/it]\n",
      "100%|████████████████████████████████████████████████████████████████████████████████████| 6/6 [00:30<00:00,  5.09s/it]\n"
     ]
    },
    {
     "name": "stdout",
     "output_type": "stream",
     "text": [
      "8-th round\n",
      "average train loss 0.336 | test loss 2.47 | test acc: 0.451\n"
     ]
    },
    {
     "name": "stderr",
     "output_type": "stream",
     "text": [
      "100%|████████████████████████████████████████████████████████████████████████████████████| 6/6 [01:28<00:00, 14.68s/it]\n",
      "100%|████████████████████████████████████████████████████████████████████████████████████| 6/6 [00:31<00:00,  5.25s/it]\n"
     ]
    },
    {
     "name": "stdout",
     "output_type": "stream",
     "text": [
      "9-th round\n",
      "average train loss 0.264 | test loss 2.48 | test acc: 0.471\n"
     ]
    },
    {
     "name": "stderr",
     "output_type": "stream",
     "text": [
      "100%|████████████████████████████████████████████████████████████████████████████████████| 6/6 [02:03<00:00, 20.58s/it]\n",
      "100%|████████████████████████████████████████████████████████████████████████████████████| 6/6 [00:32<00:00,  5.35s/it]\n"
     ]
    },
    {
     "name": "stdout",
     "output_type": "stream",
     "text": [
      "10-th round\n",
      "average train loss 0.182 | test loss 2.37 | test acc: 0.492\n"
     ]
    },
    {
     "name": "stderr",
     "output_type": "stream",
     "text": [
      "100%|████████████████████████████████████████████████████████████████████████████████████| 6/6 [02:01<00:00, 20.23s/it]\n",
      "100%|████████████████████████████████████████████████████████████████████████████████████| 6/6 [00:30<00:00,  5.13s/it]\n"
     ]
    },
    {
     "name": "stdout",
     "output_type": "stream",
     "text": [
      "11-th round\n",
      "average train loss 0.0924 | test loss 2.29 | test acc: 0.518\n"
     ]
    },
    {
     "name": "stderr",
     "output_type": "stream",
     "text": [
      "100%|████████████████████████████████████████████████████████████████████████████████████| 6/6 [02:38<00:00, 26.48s/it]\n",
      "100%|████████████████████████████████████████████████████████████████████████████████████| 6/6 [00:33<00:00,  5.60s/it]\n"
     ]
    },
    {
     "name": "stdout",
     "output_type": "stream",
     "text": [
      "12-th round\n",
      "average train loss 0.26 | test loss 2.21 | test acc: 0.516\n"
     ]
    },
    {
     "name": "stderr",
     "output_type": "stream",
     "text": [
      "100%|████████████████████████████████████████████████████████████████████████████████████| 6/6 [01:39<00:00, 16.61s/it]\n",
      "100%|████████████████████████████████████████████████████████████████████████████████████| 6/6 [00:32<00:00,  5.35s/it]\n"
     ]
    },
    {
     "name": "stdout",
     "output_type": "stream",
     "text": [
      "13-th round\n",
      "average train loss 0.582 | test loss 2.38 | test acc: 0.484\n"
     ]
    },
    {
     "name": "stderr",
     "output_type": "stream",
     "text": [
      "100%|████████████████████████████████████████████████████████████████████████████████████| 6/6 [02:12<00:00, 22.07s/it]\n",
      "100%|████████████████████████████████████████████████████████████████████████████████████| 6/6 [00:30<00:00,  5.13s/it]\n"
     ]
    },
    {
     "name": "stdout",
     "output_type": "stream",
     "text": [
      "14-th round\n",
      "average train loss 0.0527 | test loss 2.12 | test acc: 0.541\n"
     ]
    },
    {
     "name": "stderr",
     "output_type": "stream",
     "text": [
      "100%|████████████████████████████████████████████████████████████████████████████████████| 6/6 [02:15<00:00, 22.59s/it]\n",
      "100%|████████████████████████████████████████████████████████████████████████████████████| 6/6 [00:32<00:00,  5.36s/it]\n"
     ]
    },
    {
     "name": "stdout",
     "output_type": "stream",
     "text": [
      "15-th round\n",
      "average train loss 0.0186 | test loss 2 | test acc: 0.567\n"
     ]
    },
    {
     "name": "stderr",
     "output_type": "stream",
     "text": [
      "100%|████████████████████████████████████████████████████████████████████████████████████| 6/6 [00:42<00:00,  7.13s/it]\n",
      "100%|████████████████████████████████████████████████████████████████████████████████████| 6/6 [00:31<00:00,  5.31s/it]\n"
     ]
    },
    {
     "name": "stdout",
     "output_type": "stream",
     "text": [
      "16-th round\n",
      "average train loss 0.0629 | test loss 2 | test acc: 0.568\n"
     ]
    },
    {
     "name": "stderr",
     "output_type": "stream",
     "text": [
      "100%|████████████████████████████████████████████████████████████████████████████████████| 6/6 [01:30<00:00, 15.07s/it]\n",
      "100%|████████████████████████████████████████████████████████████████████████████████████| 6/6 [00:31<00:00,  5.32s/it]\n"
     ]
    },
    {
     "name": "stdout",
     "output_type": "stream",
     "text": [
      "17-th round\n",
      "average train loss 0.0145 | test loss 1.98 | test acc: 0.573\n"
     ]
    },
    {
     "name": "stderr",
     "output_type": "stream",
     "text": [
      "100%|████████████████████████████████████████████████████████████████████████████████████| 6/6 [02:16<00:00, 22.69s/it]\n",
      "100%|████████████████████████████████████████████████████████████████████████████████████| 6/6 [00:30<00:00,  5.11s/it]\n"
     ]
    },
    {
     "name": "stdout",
     "output_type": "stream",
     "text": [
      "18-th round\n",
      "average train loss 0.281 | test loss 1.77 | test acc: 0.602\n"
     ]
    },
    {
     "name": "stderr",
     "output_type": "stream",
     "text": [
      "100%|████████████████████████████████████████████████████████████████████████████████████| 6/6 [02:02<00:00, 20.49s/it]\n",
      "100%|████████████████████████████████████████████████████████████████████████████████████| 6/6 [00:30<00:00,  5.06s/it]\n"
     ]
    },
    {
     "name": "stdout",
     "output_type": "stream",
     "text": [
      "19-th round\n",
      "average train loss 0.0213 | test loss 1.99 | test acc: 0.569\n"
     ]
    },
    {
     "name": "stderr",
     "output_type": "stream",
     "text": [
      "100%|████████████████████████████████████████████████████████████████████████████████████| 6/6 [02:27<00:00, 24.65s/it]\n",
      "100%|████████████████████████████████████████████████████████████████████████████████████| 6/6 [00:32<00:00,  5.40s/it]\n"
     ]
    },
    {
     "name": "stdout",
     "output_type": "stream",
     "text": [
      "20-th round\n",
      "average train loss 0.211 | test loss 1.85 | test acc: 0.582\n"
     ]
    },
    {
     "name": "stderr",
     "output_type": "stream",
     "text": [
      "100%|████████████████████████████████████████████████████████████████████████████████████| 6/6 [01:48<00:00, 18.14s/it]\n",
      "100%|████████████████████████████████████████████████████████████████████████████████████| 6/6 [00:27<00:00,  4.57s/it]\n"
     ]
    },
    {
     "name": "stdout",
     "output_type": "stream",
     "text": [
      "21-th round\n",
      "average train loss 0.0218 | test loss 1.93 | test acc: 0.582\n"
     ]
    },
    {
     "name": "stderr",
     "output_type": "stream",
     "text": [
      "100%|████████████████████████████████████████████████████████████████████████████████████| 6/6 [01:58<00:00, 19.76s/it]\n",
      "100%|████████████████████████████████████████████████████████████████████████████████████| 6/6 [00:37<00:00,  6.17s/it]\n"
     ]
    },
    {
     "name": "stdout",
     "output_type": "stream",
     "text": [
      "22-th round\n",
      "average train loss 0.156 | test loss 1.76 | test acc: 0.590\n"
     ]
    },
    {
     "name": "stderr",
     "output_type": "stream",
     "text": [
      "100%|████████████████████████████████████████████████████████████████████████████████████| 6/6 [03:27<00:00, 34.60s/it]\n",
      "100%|████████████████████████████████████████████████████████████████████████████████████| 6/6 [00:38<00:00,  6.37s/it]\n"
     ]
    },
    {
     "name": "stdout",
     "output_type": "stream",
     "text": [
      "23-th round\n",
      "average train loss 0.102 | test loss 1.86 | test acc: 0.585\n"
     ]
    },
    {
     "name": "stderr",
     "output_type": "stream",
     "text": [
      "100%|████████████████████████████████████████████████████████████████████████████████████| 6/6 [01:25<00:00, 14.26s/it]\n",
      "100%|████████████████████████████████████████████████████████████████████████████████████| 6/6 [00:36<00:00,  6.14s/it]\n"
     ]
    },
    {
     "name": "stdout",
     "output_type": "stream",
     "text": [
      "24-th round\n",
      "average train loss 0.0713 | test loss 1.85 | test acc: 0.590\n"
     ]
    },
    {
     "name": "stderr",
     "output_type": "stream",
     "text": [
      "100%|████████████████████████████████████████████████████████████████████████████████████| 6/6 [02:18<00:00, 23.04s/it]\n",
      "100%|████████████████████████████████████████████████████████████████████████████████████| 6/6 [00:38<00:00,  6.39s/it]\n"
     ]
    },
    {
     "name": "stdout",
     "output_type": "stream",
     "text": [
      "25-th round\n",
      "average train loss 0.112 | test loss 1.62 | test acc: 0.634\n"
     ]
    },
    {
     "name": "stderr",
     "output_type": "stream",
     "text": [
      "100%|████████████████████████████████████████████████████████████████████████████████████| 6/6 [02:13<00:00, 22.21s/it]\n",
      "100%|████████████████████████████████████████████████████████████████████████████████████| 6/6 [00:24<00:00,  4.16s/it]\n"
     ]
    },
    {
     "name": "stdout",
     "output_type": "stream",
     "text": [
      "26-th round\n",
      "average train loss 0.0174 | test loss 1.68 | test acc: 0.624\n"
     ]
    },
    {
     "name": "stderr",
     "output_type": "stream",
     "text": [
      "100%|████████████████████████████████████████████████████████████████████████████████████| 6/6 [02:00<00:00, 20.04s/it]\n",
      "100%|████████████████████████████████████████████████████████████████████████████████████| 6/6 [00:23<00:00,  3.95s/it]\n"
     ]
    },
    {
     "name": "stdout",
     "output_type": "stream",
     "text": [
      "27-th round\n",
      "average train loss 0.104 | test loss 1.77 | test acc: 0.609\n"
     ]
    },
    {
     "name": "stderr",
     "output_type": "stream",
     "text": [
      "100%|████████████████████████████████████████████████████████████████████████████████████| 6/6 [01:28<00:00, 14.75s/it]\n",
      "100%|████████████████████████████████████████████████████████████████████████████████████| 6/6 [00:23<00:00,  3.93s/it]\n"
     ]
    },
    {
     "name": "stdout",
     "output_type": "stream",
     "text": [
      "28-th round\n",
      "average train loss 0.243 | test loss 1.58 | test acc: 0.637\n"
     ]
    },
    {
     "name": "stderr",
     "output_type": "stream",
     "text": [
      "100%|████████████████████████████████████████████████████████████████████████████████████| 6/6 [01:32<00:00, 15.38s/it]\n",
      "100%|████████████████████████████████████████████████████████████████████████████████████| 6/6 [00:23<00:00,  3.92s/it]\n"
     ]
    },
    {
     "name": "stdout",
     "output_type": "stream",
     "text": [
      "29-th round\n",
      "average train loss 0.242 | test loss 1.62 | test acc: 0.628\n"
     ]
    },
    {
     "name": "stderr",
     "output_type": "stream",
     "text": [
      "100%|████████████████████████████████████████████████████████████████████████████████████| 6/6 [01:50<00:00, 18.47s/it]\n",
      "100%|████████████████████████████████████████████████████████████████████████████████████| 6/6 [00:27<00:00,  4.64s/it]\n"
     ]
    },
    {
     "name": "stdout",
     "output_type": "stream",
     "text": [
      "30-th round\n",
      "average train loss 0.171 | test loss 1.67 | test acc: 0.618\n"
     ]
    },
    {
     "name": "stderr",
     "output_type": "stream",
     "text": [
      "100%|████████████████████████████████████████████████████████████████████████████████████| 6/6 [02:27<00:00, 24.55s/it]\n",
      "100%|████████████████████████████████████████████████████████████████████████████████████| 6/6 [00:27<00:00,  4.67s/it]\n"
     ]
    },
    {
     "name": "stdout",
     "output_type": "stream",
     "text": [
      "31-th round\n",
      "average train loss 0.195 | test loss 1.52 | test acc: 0.646\n"
     ]
    },
    {
     "name": "stderr",
     "output_type": "stream",
     "text": [
      "100%|████████████████████████████████████████████████████████████████████████████████████| 6/6 [01:20<00:00, 13.39s/it]\n",
      "100%|████████████████████████████████████████████████████████████████████████████████████| 6/6 [00:25<00:00,  4.31s/it]\n"
     ]
    },
    {
     "name": "stdout",
     "output_type": "stream",
     "text": [
      "32-th round\n",
      "average train loss 0.0104 | test loss 1.37 | test acc: 0.675\n"
     ]
    },
    {
     "name": "stderr",
     "output_type": "stream",
     "text": [
      "100%|████████████████████████████████████████████████████████████████████████████████████| 6/6 [01:17<00:00, 12.96s/it]\n",
      "100%|████████████████████████████████████████████████████████████████████████████████████| 6/6 [00:26<00:00,  4.40s/it]\n"
     ]
    },
    {
     "name": "stdout",
     "output_type": "stream",
     "text": [
      "33-th round\n",
      "average train loss 0.101 | test loss 1.44 | test acc: 0.648\n"
     ]
    },
    {
     "name": "stderr",
     "output_type": "stream",
     "text": [
      "100%|████████████████████████████████████████████████████████████████████████████████████| 6/6 [02:14<00:00, 22.35s/it]\n",
      "100%|████████████████████████████████████████████████████████████████████████████████████| 6/6 [00:27<00:00,  4.57s/it]\n"
     ]
    },
    {
     "name": "stdout",
     "output_type": "stream",
     "text": [
      "34-th round\n",
      "average train loss 0.117 | test loss 1.57 | test acc: 0.646\n"
     ]
    },
    {
     "name": "stderr",
     "output_type": "stream",
     "text": [
      "100%|████████████████████████████████████████████████████████████████████████████████████| 6/6 [01:45<00:00, 17.61s/it]\n",
      "100%|████████████████████████████████████████████████████████████████████████████████████| 6/6 [00:30<00:00,  5.14s/it]\n"
     ]
    },
    {
     "name": "stdout",
     "output_type": "stream",
     "text": [
      "35-th round\n",
      "average train loss 0.0618 | test loss 1.47 | test acc: 0.656\n"
     ]
    },
    {
     "name": "stderr",
     "output_type": "stream",
     "text": [
      "100%|████████████████████████████████████████████████████████████████████████████████████| 6/6 [02:21<00:00, 23.66s/it]\n",
      "100%|████████████████████████████████████████████████████████████████████████████████████| 6/6 [00:29<00:00,  4.91s/it]\n"
     ]
    },
    {
     "name": "stdout",
     "output_type": "stream",
     "text": [
      "36-th round\n",
      "average train loss 0.00703 | test loss 1.41 | test acc: 0.673\n"
     ]
    },
    {
     "name": "stderr",
     "output_type": "stream",
     "text": [
      "100%|████████████████████████████████████████████████████████████████████████████████████| 6/6 [01:56<00:00, 19.45s/it]\n",
      "100%|████████████████████████████████████████████████████████████████████████████████████| 6/6 [00:30<00:00,  5.05s/it]\n"
     ]
    },
    {
     "name": "stdout",
     "output_type": "stream",
     "text": [
      "37-th round\n",
      "average train loss 0.104 | test loss 1.52 | test acc: 0.650\n"
     ]
    },
    {
     "name": "stderr",
     "output_type": "stream",
     "text": [
      "100%|████████████████████████████████████████████████████████████████████████████████████| 6/6 [01:50<00:00, 18.47s/it]\n",
      "100%|████████████████████████████████████████████████████████████████████████████████████| 6/6 [00:29<00:00,  4.97s/it]\n"
     ]
    },
    {
     "name": "stdout",
     "output_type": "stream",
     "text": [
      "38-th round\n",
      "average train loss 0.153 | test loss 1.67 | test acc: 0.637\n"
     ]
    },
    {
     "name": "stderr",
     "output_type": "stream",
     "text": [
      "100%|████████████████████████████████████████████████████████████████████████████████████| 6/6 [01:17<00:00, 12.99s/it]\n",
      "100%|████████████████████████████████████████████████████████████████████████████████████| 6/6 [00:28<00:00,  4.75s/it]\n"
     ]
    },
    {
     "name": "stdout",
     "output_type": "stream",
     "text": [
      "39-th round\n",
      "average train loss 0.0116 | test loss 1.5 | test acc: 0.650\n"
     ]
    },
    {
     "name": "stderr",
     "output_type": "stream",
     "text": [
      "100%|████████████████████████████████████████████████████████████████████████████████████| 6/6 [01:40<00:00, 16.73s/it]\n",
      "100%|████████████████████████████████████████████████████████████████████████████████████| 6/6 [00:37<00:00,  6.28s/it]\n"
     ]
    },
    {
     "name": "stdout",
     "output_type": "stream",
     "text": [
      "40-th round\n",
      "average train loss 0.0131 | test loss 1.45 | test acc: 0.665\n"
     ]
    },
    {
     "name": "stderr",
     "output_type": "stream",
     "text": [
      "100%|████████████████████████████████████████████████████████████████████████████████████| 6/6 [02:47<00:00, 27.88s/it]\n",
      "100%|████████████████████████████████████████████████████████████████████████████████████| 6/6 [00:28<00:00,  4.67s/it]\n"
     ]
    },
    {
     "name": "stdout",
     "output_type": "stream",
     "text": [
      "41-th round\n",
      "average train loss 0.00528 | test loss 1.42 | test acc: 0.671\n"
     ]
    },
    {
     "name": "stderr",
     "output_type": "stream",
     "text": [
      "100%|████████████████████████████████████████████████████████████████████████████████████| 6/6 [01:28<00:00, 14.70s/it]\n",
      "100%|████████████████████████████████████████████████████████████████████████████████████| 6/6 [00:26<00:00,  4.44s/it]\n"
     ]
    },
    {
     "name": "stdout",
     "output_type": "stream",
     "text": [
      "42-th round\n",
      "average train loss 0.0892 | test loss 2.15 | test acc: 0.569\n"
     ]
    },
    {
     "name": "stderr",
     "output_type": "stream",
     "text": [
      "100%|████████████████████████████████████████████████████████████████████████████████████| 6/6 [02:18<00:00, 23.13s/it]\n",
      "100%|████████████████████████████████████████████████████████████████████████████████████| 6/6 [00:28<00:00,  4.76s/it]\n"
     ]
    },
    {
     "name": "stdout",
     "output_type": "stream",
     "text": [
      "43-th round\n",
      "average train loss 0.0295 | test loss 1.46 | test acc: 0.660\n"
     ]
    },
    {
     "name": "stderr",
     "output_type": "stream",
     "text": [
      "100%|████████████████████████████████████████████████████████████████████████████████████| 6/6 [02:17<00:00, 22.84s/it]\n",
      "100%|████████████████████████████████████████████████████████████████████████████████████| 6/6 [00:30<00:00,  5.02s/it]\n"
     ]
    },
    {
     "name": "stdout",
     "output_type": "stream",
     "text": [
      "44-th round\n",
      "average train loss 0.0641 | test loss 1.35 | test acc: 0.681\n"
     ]
    },
    {
     "name": "stderr",
     "output_type": "stream",
     "text": [
      "100%|████████████████████████████████████████████████████████████████████████████████████| 6/6 [01:07<00:00, 11.24s/it]\n",
      "100%|████████████████████████████████████████████████████████████████████████████████████| 6/6 [00:29<00:00,  4.88s/it]\n"
     ]
    },
    {
     "name": "stdout",
     "output_type": "stream",
     "text": [
      "45-th round\n",
      "average train loss 0.00309 | test loss 1.17 | test acc: 0.713\n"
     ]
    },
    {
     "name": "stderr",
     "output_type": "stream",
     "text": [
      "100%|████████████████████████████████████████████████████████████████████████████████████| 6/6 [02:02<00:00, 20.41s/it]\n",
      "100%|████████████████████████████████████████████████████████████████████████████████████| 6/6 [00:25<00:00,  4.22s/it]\n"
     ]
    },
    {
     "name": "stdout",
     "output_type": "stream",
     "text": [
      "46-th round\n",
      "average train loss 0.0037 | test loss 1.33 | test acc: 0.692\n"
     ]
    },
    {
     "name": "stderr",
     "output_type": "stream",
     "text": [
      "100%|████████████████████████████████████████████████████████████████████████████████████| 6/6 [02:03<00:00, 20.50s/it]\n",
      "100%|████████████████████████████████████████████████████████████████████████████████████| 6/6 [00:30<00:00,  5.07s/it]\n"
     ]
    },
    {
     "name": "stdout",
     "output_type": "stream",
     "text": [
      "47-th round\n",
      "average train loss 0.00138 | test loss 1.34 | test acc: 0.692\n"
     ]
    },
    {
     "name": "stderr",
     "output_type": "stream",
     "text": [
      "100%|████████████████████████████████████████████████████████████████████████████████████| 6/6 [01:33<00:00, 15.53s/it]\n",
      "100%|████████████████████████████████████████████████████████████████████████████████████| 6/6 [00:29<00:00,  4.84s/it]\n"
     ]
    },
    {
     "name": "stdout",
     "output_type": "stream",
     "text": [
      "48-th round\n",
      "average train loss 0.0167 | test loss 1.23 | test acc: 0.704\n"
     ]
    },
    {
     "name": "stderr",
     "output_type": "stream",
     "text": [
      "100%|████████████████████████████████████████████████████████████████████████████████████| 6/6 [01:24<00:00, 14.08s/it]\n",
      "100%|████████████████████████████████████████████████████████████████████████████████████| 6/6 [00:24<00:00,  4.14s/it]\n"
     ]
    },
    {
     "name": "stdout",
     "output_type": "stream",
     "text": [
      "49-th round\n",
      "average train loss 0.00346 | test loss 1.35 | test acc: 0.682\n"
     ]
    },
    {
     "name": "stderr",
     "output_type": "stream",
     "text": [
      "100%|████████████████████████████████████████████████████████████████████████████████████| 6/6 [02:04<00:00, 20.72s/it]\n",
      "100%|████████████████████████████████████████████████████████████████████████████████████| 6/6 [00:29<00:00,  4.88s/it]\n"
     ]
    },
    {
     "name": "stdout",
     "output_type": "stream",
     "text": [
      "50-th round\n",
      "average train loss 0.0153 | test loss 1.32 | test acc: 0.694\n"
     ]
    },
    {
     "name": "stderr",
     "output_type": "stream",
     "text": [
      "100%|████████████████████████████████████████████████████████████████████████████████████| 6/6 [01:48<00:00, 18.00s/it]\n",
      "100%|████████████████████████████████████████████████████████████████████████████████████| 6/6 [00:28<00:00,  4.77s/it]\n"
     ]
    },
    {
     "name": "stdout",
     "output_type": "stream",
     "text": [
      "51-th round\n",
      "average train loss 0.00393 | test loss 1.2 | test acc: 0.706\n"
     ]
    },
    {
     "name": "stderr",
     "output_type": "stream",
     "text": [
      "100%|████████████████████████████████████████████████████████████████████████████████████| 6/6 [01:21<00:00, 13.65s/it]\n",
      "100%|████████████████████████████████████████████████████████████████████████████████████| 6/6 [00:23<00:00,  3.89s/it]\n"
     ]
    },
    {
     "name": "stdout",
     "output_type": "stream",
     "text": [
      "52-th round\n",
      "average train loss 0.00243 | test loss 1.37 | test acc: 0.684\n"
     ]
    },
    {
     "name": "stderr",
     "output_type": "stream",
     "text": [
      "100%|████████████████████████████████████████████████████████████████████████████████████| 6/6 [01:07<00:00, 11.33s/it]\n",
      "100%|████████████████████████████████████████████████████████████████████████████████████| 6/6 [00:22<00:00,  3.67s/it]\n"
     ]
    },
    {
     "name": "stdout",
     "output_type": "stream",
     "text": [
      "53-th round\n",
      "average train loss 0.00838 | test loss 1.31 | test acc: 0.698\n"
     ]
    },
    {
     "name": "stderr",
     "output_type": "stream",
     "text": [
      "100%|████████████████████████████████████████████████████████████████████████████████████| 6/6 [01:35<00:00, 15.91s/it]\n",
      "100%|████████████████████████████████████████████████████████████████████████████████████| 6/6 [00:26<00:00,  4.46s/it]\n"
     ]
    },
    {
     "name": "stdout",
     "output_type": "stream",
     "text": [
      "54-th round\n",
      "average train loss 0.00289 | test loss 1.36 | test acc: 0.685\n"
     ]
    },
    {
     "name": "stderr",
     "output_type": "stream",
     "text": [
      "100%|████████████████████████████████████████████████████████████████████████████████████| 6/6 [01:33<00:00, 15.59s/it]\n",
      "100%|████████████████████████████████████████████████████████████████████████████████████| 6/6 [00:27<00:00,  4.59s/it]\n"
     ]
    },
    {
     "name": "stdout",
     "output_type": "stream",
     "text": [
      "55-th round\n",
      "average train loss 0.13 | test loss 1.54 | test acc: 0.648\n"
     ]
    },
    {
     "name": "stderr",
     "output_type": "stream",
     "text": [
      "100%|████████████████████████████████████████████████████████████████████████████████████| 6/6 [02:24<00:00, 24.08s/it]\n",
      "100%|████████████████████████████████████████████████████████████████████████████████████| 6/6 [00:24<00:00,  4.02s/it]\n"
     ]
    },
    {
     "name": "stdout",
     "output_type": "stream",
     "text": [
      "56-th round\n",
      "average train loss 0.00287 | test loss 1.2 | test acc: 0.707\n"
     ]
    },
    {
     "name": "stderr",
     "output_type": "stream",
     "text": [
      "100%|████████████████████████████████████████████████████████████████████████████████████| 6/6 [01:16<00:00, 12.75s/it]\n",
      "100%|████████████████████████████████████████████████████████████████████████████████████| 6/6 [00:23<00:00,  3.86s/it]\n"
     ]
    },
    {
     "name": "stdout",
     "output_type": "stream",
     "text": [
      "57-th round\n",
      "average train loss 0.00391 | test loss 1.24 | test acc: 0.706\n"
     ]
    },
    {
     "name": "stderr",
     "output_type": "stream",
     "text": [
      "100%|████████████████████████████████████████████████████████████████████████████████████| 6/6 [01:36<00:00, 16.13s/it]\n",
      "100%|████████████████████████████████████████████████████████████████████████████████████| 6/6 [00:22<00:00,  3.75s/it]\n"
     ]
    },
    {
     "name": "stdout",
     "output_type": "stream",
     "text": [
      "58-th round\n",
      "average train loss 0.00195 | test loss 1.2 | test acc: 0.710\n"
     ]
    },
    {
     "name": "stderr",
     "output_type": "stream",
     "text": [
      "100%|████████████████████████████████████████████████████████████████████████████████████| 6/6 [01:54<00:00, 19.06s/it]\n",
      "100%|████████████████████████████████████████████████████████████████████████████████████| 6/6 [00:22<00:00,  3.77s/it]\n"
     ]
    },
    {
     "name": "stdout",
     "output_type": "stream",
     "text": [
      "59-th round\n",
      "average train loss 0.0021 | test loss 1.31 | test acc: 0.697\n"
     ]
    },
    {
     "name": "stderr",
     "output_type": "stream",
     "text": [
      "100%|████████████████████████████████████████████████████████████████████████████████████| 6/6 [00:48<00:00,  8.15s/it]\n",
      "100%|████████████████████████████████████████████████████████████████████████████████████| 6/6 [00:26<00:00,  4.46s/it]\n"
     ]
    },
    {
     "name": "stdout",
     "output_type": "stream",
     "text": [
      "60-th round\n",
      "average train loss 0.0585 | test loss 1.29 | test acc: 0.696\n"
     ]
    },
    {
     "name": "stderr",
     "output_type": "stream",
     "text": [
      "100%|████████████████████████████████████████████████████████████████████████████████████| 6/6 [01:43<00:00, 17.17s/it]\n",
      "100%|████████████████████████████████████████████████████████████████████████████████████| 6/6 [00:23<00:00,  3.86s/it]\n"
     ]
    },
    {
     "name": "stdout",
     "output_type": "stream",
     "text": [
      "61-th round\n",
      "average train loss 0.00551 | test loss 1.29 | test acc: 0.701\n"
     ]
    },
    {
     "name": "stderr",
     "output_type": "stream",
     "text": [
      "100%|████████████████████████████████████████████████████████████████████████████████████| 6/6 [02:03<00:00, 20.59s/it]\n",
      "100%|████████████████████████████████████████████████████████████████████████████████████| 6/6 [00:25<00:00,  4.26s/it]\n"
     ]
    },
    {
     "name": "stdout",
     "output_type": "stream",
     "text": [
      "62-th round\n",
      "average train loss 0.00136 | test loss 1.25 | test acc: 0.706\n"
     ]
    },
    {
     "name": "stderr",
     "output_type": "stream",
     "text": [
      "100%|████████████████████████████████████████████████████████████████████████████████████| 6/6 [01:29<00:00, 14.85s/it]\n",
      "100%|████████████████████████████████████████████████████████████████████████████████████| 6/6 [00:21<00:00,  3.66s/it]\n"
     ]
    },
    {
     "name": "stdout",
     "output_type": "stream",
     "text": [
      "63-th round\n",
      "average train loss 0.099 | test loss 1.34 | test acc: 0.682\n"
     ]
    },
    {
     "name": "stderr",
     "output_type": "stream",
     "text": [
      "100%|████████████████████████████████████████████████████████████████████████████████████| 6/6 [01:26<00:00, 14.46s/it]\n",
      "100%|████████████████████████████████████████████████████████████████████████████████████| 6/6 [00:22<00:00,  3.78s/it]\n"
     ]
    },
    {
     "name": "stdout",
     "output_type": "stream",
     "text": [
      "64-th round\n",
      "average train loss 0.0064 | test loss 1.19 | test acc: 0.709\n"
     ]
    },
    {
     "name": "stderr",
     "output_type": "stream",
     "text": [
      "100%|████████████████████████████████████████████████████████████████████████████████████| 6/6 [02:31<00:00, 25.18s/it]\n",
      "100%|████████████████████████████████████████████████████████████████████████████████████| 6/6 [00:26<00:00,  4.42s/it]\n"
     ]
    },
    {
     "name": "stdout",
     "output_type": "stream",
     "text": [
      "65-th round\n",
      "average train loss 0.00231 | test loss 1.2 | test acc: 0.711\n"
     ]
    },
    {
     "name": "stderr",
     "output_type": "stream",
     "text": [
      "100%|████████████████████████████████████████████████████████████████████████████████████| 6/6 [01:46<00:00, 17.72s/it]\n",
      "100%|████████████████████████████████████████████████████████████████████████████████████| 6/6 [00:28<00:00,  4.69s/it]\n"
     ]
    },
    {
     "name": "stdout",
     "output_type": "stream",
     "text": [
      "66-th round\n",
      "average train loss 0.00219 | test loss 1.14 | test acc: 0.720\n"
     ]
    },
    {
     "name": "stderr",
     "output_type": "stream",
     "text": [
      "100%|████████████████████████████████████████████████████████████████████████████████████| 6/6 [01:53<00:00, 18.84s/it]\n",
      "100%|████████████████████████████████████████████████████████████████████████████████████| 6/6 [00:29<00:00,  4.88s/it]\n"
     ]
    },
    {
     "name": "stdout",
     "output_type": "stream",
     "text": [
      "67-th round\n",
      "average train loss 0.00129 | test loss 1.21 | test acc: 0.710\n"
     ]
    },
    {
     "name": "stderr",
     "output_type": "stream",
     "text": [
      "100%|████████████████████████████████████████████████████████████████████████████████████| 6/6 [02:22<00:00, 23.74s/it]\n",
      "100%|████████████████████████████████████████████████████████████████████████████████████| 6/6 [00:29<00:00,  4.96s/it]\n"
     ]
    },
    {
     "name": "stdout",
     "output_type": "stream",
     "text": [
      "68-th round\n",
      "average train loss 0.00784 | test loss 1.23 | test acc: 0.715\n"
     ]
    },
    {
     "name": "stderr",
     "output_type": "stream",
     "text": [
      "100%|████████████████████████████████████████████████████████████████████████████████████| 6/6 [01:18<00:00, 13.01s/it]\n",
      "100%|████████████████████████████████████████████████████████████████████████████████████| 6/6 [00:29<00:00,  4.84s/it]\n"
     ]
    },
    {
     "name": "stdout",
     "output_type": "stream",
     "text": [
      "69-th round\n",
      "average train loss 0.276 | test loss 1.3 | test acc: 0.680\n"
     ]
    },
    {
     "name": "stderr",
     "output_type": "stream",
     "text": [
      "100%|████████████████████████████████████████████████████████████████████████████████████| 6/6 [01:49<00:00, 18.32s/it]\n",
      "100%|████████████████████████████████████████████████████████████████████████████████████| 6/6 [00:29<00:00,  4.93s/it]\n"
     ]
    },
    {
     "name": "stdout",
     "output_type": "stream",
     "text": [
      "70-th round\n",
      "average train loss 0.00111 | test loss 1.12 | test acc: 0.725\n"
     ]
    },
    {
     "name": "stderr",
     "output_type": "stream",
     "text": [
      "100%|████████████████████████████████████████████████████████████████████████████████████| 6/6 [02:00<00:00, 20.03s/it]\n",
      "100%|████████████████████████████████████████████████████████████████████████████████████| 6/6 [00:28<00:00,  4.71s/it]\n"
     ]
    },
    {
     "name": "stdout",
     "output_type": "stream",
     "text": [
      "71-th round\n",
      "average train loss 0.288 | test loss 1.5 | test acc: 0.658\n"
     ]
    },
    {
     "name": "stderr",
     "output_type": "stream",
     "text": [
      "100%|████████████████████████████████████████████████████████████████████████████████████| 6/6 [02:19<00:00, 23.20s/it]\n",
      "100%|████████████████████████████████████████████████████████████████████████████████████| 6/6 [00:29<00:00,  4.92s/it]\n"
     ]
    },
    {
     "name": "stdout",
     "output_type": "stream",
     "text": [
      "72-th round\n",
      "average train loss 0.00212 | test loss 1.17 | test acc: 0.718\n"
     ]
    },
    {
     "name": "stderr",
     "output_type": "stream",
     "text": [
      "100%|████████████████████████████████████████████████████████████████████████████████████| 6/6 [02:06<00:00, 21.00s/it]\n",
      "100%|████████████████████████████████████████████████████████████████████████████████████| 6/6 [00:29<00:00,  4.99s/it]\n"
     ]
    },
    {
     "name": "stdout",
     "output_type": "stream",
     "text": [
      "73-th round\n",
      "average train loss 0.00112 | test loss 1.23 | test acc: 0.710\n"
     ]
    },
    {
     "name": "stderr",
     "output_type": "stream",
     "text": [
      "100%|████████████████████████████████████████████████████████████████████████████████████| 6/6 [01:33<00:00, 15.58s/it]\n",
      "100%|████████████████████████████████████████████████████████████████████████████████████| 6/6 [00:29<00:00,  4.93s/it]\n"
     ]
    },
    {
     "name": "stdout",
     "output_type": "stream",
     "text": [
      "74-th round\n",
      "average train loss 0.00173 | test loss 1.24 | test acc: 0.704\n"
     ]
    },
    {
     "name": "stderr",
     "output_type": "stream",
     "text": [
      "100%|████████████████████████████████████████████████████████████████████████████████████| 6/6 [01:27<00:00, 14.60s/it]\n",
      "100%|████████████████████████████████████████████████████████████████████████████████████| 6/6 [00:29<00:00,  4.91s/it]\n"
     ]
    },
    {
     "name": "stdout",
     "output_type": "stream",
     "text": [
      "75-th round\n",
      "average train loss 0.00145 | test loss 1.06 | test acc: 0.736\n"
     ]
    },
    {
     "name": "stderr",
     "output_type": "stream",
     "text": [
      "100%|████████████████████████████████████████████████████████████████████████████████████| 6/6 [02:24<00:00, 24.15s/it]\n",
      "100%|████████████████████████████████████████████████████████████████████████████████████| 6/6 [00:23<00:00,  3.91s/it]\n"
     ]
    },
    {
     "name": "stdout",
     "output_type": "stream",
     "text": [
      "76-th round\n",
      "average train loss 0.000715 | test loss 1.03 | test acc: 0.746\n"
     ]
    },
    {
     "name": "stderr",
     "output_type": "stream",
     "text": [
      "100%|████████████████████████████████████████████████████████████████████████████████████| 6/6 [01:42<00:00, 17.06s/it]\n",
      "100%|████████████████████████████████████████████████████████████████████████████████████| 6/6 [00:31<00:00,  5.32s/it]\n"
     ]
    },
    {
     "name": "stdout",
     "output_type": "stream",
     "text": [
      "77-th round\n",
      "average train loss 0.0161 | test loss 1.05 | test acc: 0.737\n"
     ]
    },
    {
     "name": "stderr",
     "output_type": "stream",
     "text": [
      "100%|████████████████████████████████████████████████████████████████████████████████████| 6/6 [01:56<00:00, 19.35s/it]\n",
      "100%|████████████████████████████████████████████████████████████████████████████████████| 6/6 [00:29<00:00,  4.96s/it]\n"
     ]
    },
    {
     "name": "stdout",
     "output_type": "stream",
     "text": [
      "78-th round\n",
      "average train loss 0.000908 | test loss 1.18 | test acc: 0.710\n"
     ]
    },
    {
     "name": "stderr",
     "output_type": "stream",
     "text": [
      "100%|████████████████████████████████████████████████████████████████████████████████████| 6/6 [02:22<00:00, 23.67s/it]\n",
      "100%|████████████████████████████████████████████████████████████████████████████████████| 6/6 [00:31<00:00,  5.22s/it]\n"
     ]
    },
    {
     "name": "stdout",
     "output_type": "stream",
     "text": [
      "79-th round\n",
      "average train loss 0.00186 | test loss 1.14 | test acc: 0.723\n"
     ]
    },
    {
     "name": "stderr",
     "output_type": "stream",
     "text": [
      "100%|████████████████████████████████████████████████████████████████████████████████████| 6/6 [01:46<00:00, 17.70s/it]\n",
      "100%|████████████████████████████████████████████████████████████████████████████████████| 6/6 [00:27<00:00,  4.59s/it]\n"
     ]
    },
    {
     "name": "stdout",
     "output_type": "stream",
     "text": [
      "80-th round\n",
      "average train loss 0.00315 | test loss 1.07 | test acc: 0.730\n"
     ]
    },
    {
     "name": "stderr",
     "output_type": "stream",
     "text": [
      "100%|████████████████████████████████████████████████████████████████████████████████████| 6/6 [01:34<00:00, 15.76s/it]\n",
      "100%|████████████████████████████████████████████████████████████████████████████████████| 6/6 [00:31<00:00,  5.17s/it]\n"
     ]
    },
    {
     "name": "stdout",
     "output_type": "stream",
     "text": [
      "81-th round\n",
      "average train loss 0.00124 | test loss 1.19 | test acc: 0.716\n"
     ]
    },
    {
     "name": "stderr",
     "output_type": "stream",
     "text": [
      "100%|████████████████████████████████████████████████████████████████████████████████████| 6/6 [01:40<00:00, 16.81s/it]\n",
      "100%|████████████████████████████████████████████████████████████████████████████████████| 6/6 [00:29<00:00,  4.99s/it]\n"
     ]
    },
    {
     "name": "stdout",
     "output_type": "stream",
     "text": [
      "82-th round\n",
      "average train loss 0.00145 | test loss 1.11 | test acc: 0.733\n"
     ]
    },
    {
     "name": "stderr",
     "output_type": "stream",
     "text": [
      "100%|████████████████████████████████████████████████████████████████████████████████████| 6/6 [01:46<00:00, 17.71s/it]\n",
      "100%|████████████████████████████████████████████████████████████████████████████████████| 6/6 [00:29<00:00,  4.88s/it]\n"
     ]
    },
    {
     "name": "stdout",
     "output_type": "stream",
     "text": [
      "83-th round\n",
      "average train loss 0.00136 | test loss 1.12 | test acc: 0.728\n"
     ]
    },
    {
     "name": "stderr",
     "output_type": "stream",
     "text": [
      "100%|████████████████████████████████████████████████████████████████████████████████████| 6/6 [01:35<00:00, 15.95s/it]\n",
      "100%|████████████████████████████████████████████████████████████████████████████████████| 6/6 [00:29<00:00,  4.99s/it]\n"
     ]
    },
    {
     "name": "stdout",
     "output_type": "stream",
     "text": [
      "84-th round\n",
      "average train loss 0.0017 | test loss 0.974 | test acc: 0.754\n"
     ]
    },
    {
     "name": "stderr",
     "output_type": "stream",
     "text": [
      "100%|████████████████████████████████████████████████████████████████████████████████████| 6/6 [01:50<00:00, 18.34s/it]\n",
      "100%|████████████████████████████████████████████████████████████████████████████████████| 6/6 [00:30<00:00,  5.01s/it]\n"
     ]
    },
    {
     "name": "stdout",
     "output_type": "stream",
     "text": [
      "85-th round\n",
      "average train loss 0.000739 | test loss 1.1 | test acc: 0.726\n"
     ]
    },
    {
     "name": "stderr",
     "output_type": "stream",
     "text": [
      "100%|████████████████████████████████████████████████████████████████████████████████████| 6/6 [01:59<00:00, 20.00s/it]\n",
      "100%|████████████████████████████████████████████████████████████████████████████████████| 6/6 [00:29<00:00,  4.98s/it]\n"
     ]
    },
    {
     "name": "stdout",
     "output_type": "stream",
     "text": [
      "86-th round\n",
      "average train loss 0.0015 | test loss 1.05 | test acc: 0.735\n"
     ]
    },
    {
     "name": "stderr",
     "output_type": "stream",
     "text": [
      "100%|████████████████████████████████████████████████████████████████████████████████████| 6/6 [01:51<00:00, 18.65s/it]\n",
      "100%|████████████████████████████████████████████████████████████████████████████████████| 6/6 [00:29<00:00,  4.84s/it]\n"
     ]
    },
    {
     "name": "stdout",
     "output_type": "stream",
     "text": [
      "87-th round\n",
      "average train loss 0.00118 | test loss 1.2 | test acc: 0.717\n"
     ]
    },
    {
     "name": "stderr",
     "output_type": "stream",
     "text": [
      "100%|████████████████████████████████████████████████████████████████████████████████████| 6/6 [01:19<00:00, 13.29s/it]\n",
      "100%|████████████████████████████████████████████████████████████████████████████████████| 6/6 [00:28<00:00,  4.77s/it]\n"
     ]
    },
    {
     "name": "stdout",
     "output_type": "stream",
     "text": [
      "88-th round\n",
      "average train loss 0.000507 | test loss 1.05 | test acc: 0.736\n"
     ]
    },
    {
     "name": "stderr",
     "output_type": "stream",
     "text": [
      "100%|████████████████████████████████████████████████████████████████████████████████████| 6/6 [01:32<00:00, 15.40s/it]\n",
      "100%|████████████████████████████████████████████████████████████████████████████████████| 6/6 [00:22<00:00,  3.78s/it]\n"
     ]
    },
    {
     "name": "stdout",
     "output_type": "stream",
     "text": [
      "89-th round\n",
      "average train loss 0.000572 | test loss 1.04 | test acc: 0.742\n"
     ]
    },
    {
     "name": "stderr",
     "output_type": "stream",
     "text": [
      "100%|████████████████████████████████████████████████████████████████████████████████████| 6/6 [01:01<00:00, 10.24s/it]\n",
      "100%|████████████████████████████████████████████████████████████████████████████████████| 6/6 [00:22<00:00,  3.82s/it]\n"
     ]
    },
    {
     "name": "stdout",
     "output_type": "stream",
     "text": [
      "90-th round\n",
      "average train loss 0.00103 | test loss 1.14 | test acc: 0.723\n"
     ]
    },
    {
     "name": "stderr",
     "output_type": "stream",
     "text": [
      "100%|████████████████████████████████████████████████████████████████████████████████████| 6/6 [01:17<00:00, 12.95s/it]\n",
      "100%|████████████████████████████████████████████████████████████████████████████████████| 6/6 [00:22<00:00,  3.82s/it]\n"
     ]
    },
    {
     "name": "stdout",
     "output_type": "stream",
     "text": [
      "91-th round\n",
      "average train loss 0.00512 | test loss 1.07 | test acc: 0.732\n"
     ]
    },
    {
     "name": "stderr",
     "output_type": "stream",
     "text": [
      "100%|████████████████████████████████████████████████████████████████████████████████████| 6/6 [01:52<00:00, 18.70s/it]\n",
      "100%|████████████████████████████████████████████████████████████████████████████████████| 6/6 [00:21<00:00,  3.65s/it]\n"
     ]
    },
    {
     "name": "stdout",
     "output_type": "stream",
     "text": [
      "92-th round\n",
      "average train loss 0.00117 | test loss 1.04 | test acc: 0.740\n"
     ]
    },
    {
     "name": "stderr",
     "output_type": "stream",
     "text": [
      "100%|████████████████████████████████████████████████████████████████████████████████████| 6/6 [01:14<00:00, 12.41s/it]\n",
      "100%|████████████████████████████████████████████████████████████████████████████████████| 6/6 [00:22<00:00,  3.79s/it]\n"
     ]
    },
    {
     "name": "stdout",
     "output_type": "stream",
     "text": [
      "93-th round\n",
      "average train loss 0.00119 | test loss 1.16 | test acc: 0.724\n"
     ]
    },
    {
     "name": "stderr",
     "output_type": "stream",
     "text": [
      "100%|████████████████████████████████████████████████████████████████████████████████████| 6/6 [01:30<00:00, 15.01s/it]\n",
      "100%|████████████████████████████████████████████████████████████████████████████████████| 6/6 [00:22<00:00,  3.73s/it]\n"
     ]
    },
    {
     "name": "stdout",
     "output_type": "stream",
     "text": [
      "94-th round\n",
      "average train loss 0.0121 | test loss 1.28 | test acc: 0.710\n"
     ]
    },
    {
     "name": "stderr",
     "output_type": "stream",
     "text": [
      "100%|████████████████████████████████████████████████████████████████████████████████████| 6/6 [02:02<00:00, 20.35s/it]\n",
      "100%|████████████████████████████████████████████████████████████████████████████████████| 6/6 [00:22<00:00,  3.76s/it]\n"
     ]
    },
    {
     "name": "stdout",
     "output_type": "stream",
     "text": [
      "95-th round\n",
      "average train loss 0.034 | test loss 1.15 | test acc: 0.721\n"
     ]
    },
    {
     "name": "stderr",
     "output_type": "stream",
     "text": [
      "100%|████████████████████████████████████████████████████████████████████████████████████| 6/6 [01:32<00:00, 15.42s/it]\n",
      "100%|████████████████████████████████████████████████████████████████████████████████████| 6/6 [00:22<00:00,  3.70s/it]\n"
     ]
    },
    {
     "name": "stdout",
     "output_type": "stream",
     "text": [
      "96-th round\n",
      "average train loss 0.000557 | test loss 1.28 | test acc: 0.700\n"
     ]
    },
    {
     "name": "stderr",
     "output_type": "stream",
     "text": [
      "100%|████████████████████████████████████████████████████████████████████████████████████| 6/6 [01:46<00:00, 17.73s/it]\n",
      "100%|████████████████████████████████████████████████████████████████████████████████████| 6/6 [00:22<00:00,  3.70s/it]\n"
     ]
    },
    {
     "name": "stdout",
     "output_type": "stream",
     "text": [
      "97-th round\n",
      "average train loss 0.00399 | test loss 1.22 | test acc: 0.713\n"
     ]
    },
    {
     "name": "stderr",
     "output_type": "stream",
     "text": [
      "100%|████████████████████████████████████████████████████████████████████████████████████| 6/6 [00:58<00:00,  9.67s/it]\n",
      "100%|████████████████████████████████████████████████████████████████████████████████████| 6/6 [00:22<00:00,  3.79s/it]\n"
     ]
    },
    {
     "name": "stdout",
     "output_type": "stream",
     "text": [
      "98-th round\n",
      "average train loss 0.00337 | test loss 1.35 | test acc: 0.691\n"
     ]
    },
    {
     "name": "stderr",
     "output_type": "stream",
     "text": [
      "100%|████████████████████████████████████████████████████████████████████████████████████| 6/6 [01:14<00:00, 12.49s/it]\n",
      "100%|████████████████████████████████████████████████████████████████████████████████████| 6/6 [00:22<00:00,  3.76s/it]\n"
     ]
    },
    {
     "name": "stdout",
     "output_type": "stream",
     "text": [
      "99-th round\n",
      "average train loss 0.00147 | test loss 1.11 | test acc: 0.728\n"
     ]
    },
    {
     "name": "stderr",
     "output_type": "stream",
     "text": [
      "100%|████████████████████████████████████████████████████████████████████████████████████| 6/6 [01:21<00:00, 13.62s/it]\n",
      "100%|████████████████████████████████████████████████████████████████████████████████████| 6/6 [00:22<00:00,  3.77s/it]\n"
     ]
    },
    {
     "name": "stdout",
     "output_type": "stream",
     "text": [
      "100-th round\n",
      "average train loss 0.0199 | test loss 1.05 | test acc: 0.738\n"
     ]
    },
    {
     "name": "stderr",
     "output_type": "stream",
     "text": [
      "100%|████████████████████████████████████████████████████████████████████████████████████| 6/6 [01:29<00:00, 14.99s/it]\n",
      "100%|████████████████████████████████████████████████████████████████████████████████████| 6/6 [00:22<00:00,  3.69s/it]\n"
     ]
    },
    {
     "name": "stdout",
     "output_type": "stream",
     "text": [
      "101-th round\n",
      "average train loss 0.000336 | test loss 0.996 | test acc: 0.750\n"
     ]
    },
    {
     "name": "stderr",
     "output_type": "stream",
     "text": [
      "100%|████████████████████████████████████████████████████████████████████████████████████| 6/6 [01:19<00:00, 13.24s/it]\n",
      "100%|████████████████████████████████████████████████████████████████████████████████████| 6/6 [00:22<00:00,  3.77s/it]\n"
     ]
    },
    {
     "name": "stdout",
     "output_type": "stream",
     "text": [
      "102-th round\n",
      "average train loss 0.00292 | test loss 1.13 | test acc: 0.726\n"
     ]
    },
    {
     "name": "stderr",
     "output_type": "stream",
     "text": [
      "100%|████████████████████████████████████████████████████████████████████████████████████| 6/6 [01:13<00:00, 12.21s/it]\n",
      "100%|████████████████████████████████████████████████████████████████████████████████████| 6/6 [00:22<00:00,  3.68s/it]\n"
     ]
    },
    {
     "name": "stdout",
     "output_type": "stream",
     "text": [
      "103-th round\n",
      "average train loss 0.000451 | test loss 1.03 | test acc: 0.746\n"
     ]
    },
    {
     "name": "stderr",
     "output_type": "stream",
     "text": [
      "100%|████████████████████████████████████████████████████████████████████████████████████| 6/6 [01:47<00:00, 18.00s/it]\n",
      "100%|████████████████████████████████████████████████████████████████████████████████████| 6/6 [00:22<00:00,  3.70s/it]\n"
     ]
    },
    {
     "name": "stdout",
     "output_type": "stream",
     "text": [
      "104-th round\n",
      "average train loss 0.000815 | test loss 1.28 | test acc: 0.715\n"
     ]
    },
    {
     "name": "stderr",
     "output_type": "stream",
     "text": [
      "100%|████████████████████████████████████████████████████████████████████████████████████| 6/6 [01:27<00:00, 14.62s/it]\n",
      "100%|████████████████████████████████████████████████████████████████████████████████████| 6/6 [00:22<00:00,  3.76s/it]\n"
     ]
    },
    {
     "name": "stdout",
     "output_type": "stream",
     "text": [
      "105-th round\n",
      "average train loss 0.000654 | test loss 1.39 | test acc: 0.697\n"
     ]
    },
    {
     "name": "stderr",
     "output_type": "stream",
     "text": [
      "100%|████████████████████████████████████████████████████████████████████████████████████| 6/6 [01:20<00:00, 13.43s/it]\n",
      "100%|████████████████████████████████████████████████████████████████████████████████████| 6/6 [00:22<00:00,  3.67s/it]\n"
     ]
    },
    {
     "name": "stdout",
     "output_type": "stream",
     "text": [
      "106-th round\n",
      "average train loss 0.00206 | test loss 1.17 | test acc: 0.719\n"
     ]
    },
    {
     "name": "stderr",
     "output_type": "stream",
     "text": [
      "100%|████████████████████████████████████████████████████████████████████████████████████| 6/6 [01:09<00:00, 11.55s/it]\n",
      "100%|████████████████████████████████████████████████████████████████████████████████████| 6/6 [00:22<00:00,  3.73s/it]\n"
     ]
    },
    {
     "name": "stdout",
     "output_type": "stream",
     "text": [
      "107-th round\n",
      "average train loss 0.00135 | test loss 1.04 | test acc: 0.740\n"
     ]
    },
    {
     "name": "stderr",
     "output_type": "stream",
     "text": [
      "100%|████████████████████████████████████████████████████████████████████████████████████| 6/6 [02:04<00:00, 20.68s/it]\n",
      "100%|████████████████████████████████████████████████████████████████████████████████████| 6/6 [00:22<00:00,  3.79s/it]\n"
     ]
    },
    {
     "name": "stdout",
     "output_type": "stream",
     "text": [
      "108-th round\n",
      "average train loss 0.00215 | test loss 0.927 | test acc: 0.763\n"
     ]
    },
    {
     "name": "stderr",
     "output_type": "stream",
     "text": [
      "100%|████████████████████████████████████████████████████████████████████████████████████| 6/6 [01:43<00:00, 17.26s/it]\n",
      "100%|████████████████████████████████████████████████████████████████████████████████████| 6/6 [00:22<00:00,  3.74s/it]\n"
     ]
    },
    {
     "name": "stdout",
     "output_type": "stream",
     "text": [
      "109-th round\n",
      "average train loss 0.00126 | test loss 1.08 | test acc: 0.732\n"
     ]
    },
    {
     "name": "stderr",
     "output_type": "stream",
     "text": [
      "100%|████████████████████████████████████████████████████████████████████████████████████| 6/6 [01:32<00:00, 15.46s/it]\n",
      "100%|████████████████████████████████████████████████████████████████████████████████████| 6/6 [00:22<00:00,  3.73s/it]\n"
     ]
    },
    {
     "name": "stdout",
     "output_type": "stream",
     "text": [
      "110-th round\n",
      "average train loss 0.000613 | test loss 1.06 | test acc: 0.737\n"
     ]
    },
    {
     "name": "stderr",
     "output_type": "stream",
     "text": [
      "100%|████████████████████████████████████████████████████████████████████████████████████| 6/6 [01:10<00:00, 11.78s/it]\n",
      "100%|████████████████████████████████████████████████████████████████████████████████████| 6/6 [00:22<00:00,  3.72s/it]\n"
     ]
    },
    {
     "name": "stdout",
     "output_type": "stream",
     "text": [
      "111-th round\n",
      "average train loss 0.000431 | test loss 1.1 | test acc: 0.730\n"
     ]
    },
    {
     "name": "stderr",
     "output_type": "stream",
     "text": [
      "100%|████████████████████████████████████████████████████████████████████████████████████| 6/6 [01:31<00:00, 15.19s/it]\n",
      "100%|████████████████████████████████████████████████████████████████████████████████████| 6/6 [00:22<00:00,  3.70s/it]\n"
     ]
    },
    {
     "name": "stdout",
     "output_type": "stream",
     "text": [
      "112-th round\n",
      "average train loss 0.000308 | test loss 1.28 | test acc: 0.708\n"
     ]
    },
    {
     "name": "stderr",
     "output_type": "stream",
     "text": [
      "100%|████████████████████████████████████████████████████████████████████████████████████| 6/6 [01:33<00:00, 15.63s/it]\n",
      "100%|████████████████████████████████████████████████████████████████████████████████████| 6/6 [00:22<00:00,  3.69s/it]\n"
     ]
    },
    {
     "name": "stdout",
     "output_type": "stream",
     "text": [
      "113-th round\n",
      "average train loss 0.00186 | test loss 0.97 | test acc: 0.752\n"
     ]
    },
    {
     "name": "stderr",
     "output_type": "stream",
     "text": [
      "100%|████████████████████████████████████████████████████████████████████████████████████| 6/6 [01:42<00:00, 17.13s/it]\n",
      "100%|████████████████████████████████████████████████████████████████████████████████████| 6/6 [00:22<00:00,  3.79s/it]\n"
     ]
    },
    {
     "name": "stdout",
     "output_type": "stream",
     "text": [
      "114-th round\n",
      "average train loss 0.000542 | test loss 0.974 | test acc: 0.748\n"
     ]
    },
    {
     "name": "stderr",
     "output_type": "stream",
     "text": [
      "100%|████████████████████████████████████████████████████████████████████████████████████| 6/6 [01:31<00:00, 15.30s/it]\n",
      "100%|████████████████████████████████████████████████████████████████████████████████████| 6/6 [00:22<00:00,  3.74s/it]\n"
     ]
    },
    {
     "name": "stdout",
     "output_type": "stream",
     "text": [
      "115-th round\n",
      "average train loss 0.00102 | test loss 0.959 | test acc: 0.755\n"
     ]
    },
    {
     "name": "stderr",
     "output_type": "stream",
     "text": [
      "100%|████████████████████████████████████████████████████████████████████████████████████| 6/6 [02:06<00:00, 21.16s/it]\n",
      "100%|████████████████████████████████████████████████████████████████████████████████████| 6/6 [00:22<00:00,  3.75s/it]\n"
     ]
    },
    {
     "name": "stdout",
     "output_type": "stream",
     "text": [
      "116-th round\n",
      "average train loss 0.000945 | test loss 0.905 | test acc: 0.766\n"
     ]
    },
    {
     "name": "stderr",
     "output_type": "stream",
     "text": [
      "100%|████████████████████████████████████████████████████████████████████████████████████| 6/6 [01:32<00:00, 15.40s/it]\n",
      "100%|████████████████████████████████████████████████████████████████████████████████████| 6/6 [00:22<00:00,  3.73s/it]\n"
     ]
    },
    {
     "name": "stdout",
     "output_type": "stream",
     "text": [
      "117-th round\n",
      "average train loss 0.00158 | test loss 1.01 | test acc: 0.735\n"
     ]
    },
    {
     "name": "stderr",
     "output_type": "stream",
     "text": [
      "100%|████████████████████████████████████████████████████████████████████████████████████| 6/6 [01:09<00:00, 11.55s/it]\n",
      "100%|████████████████████████████████████████████████████████████████████████████████████| 6/6 [00:22<00:00,  3.72s/it]\n"
     ]
    },
    {
     "name": "stdout",
     "output_type": "stream",
     "text": [
      "118-th round\n",
      "average train loss 0.0172 | test loss 1.18 | test acc: 0.718\n"
     ]
    },
    {
     "name": "stderr",
     "output_type": "stream",
     "text": [
      "100%|████████████████████████████████████████████████████████████████████████████████████| 6/6 [01:33<00:00, 15.58s/it]\n",
      "100%|████████████████████████████████████████████████████████████████████████████████████| 6/6 [00:22<00:00,  3.76s/it]\n"
     ]
    },
    {
     "name": "stdout",
     "output_type": "stream",
     "text": [
      "119-th round\n",
      "average train loss 0.000766 | test loss 1.21 | test acc: 0.711\n"
     ]
    },
    {
     "name": "stderr",
     "output_type": "stream",
     "text": [
      "100%|████████████████████████████████████████████████████████████████████████████████████| 6/6 [01:27<00:00, 14.59s/it]\n",
      "100%|████████████████████████████████████████████████████████████████████████████████████| 6/6 [00:30<00:00,  5.13s/it]\n"
     ]
    },
    {
     "name": "stdout",
     "output_type": "stream",
     "text": [
      "120-th round\n",
      "average train loss 0.00198 | test loss 1.24 | test acc: 0.718\n"
     ]
    },
    {
     "name": "stderr",
     "output_type": "stream",
     "text": [
      "100%|████████████████████████████████████████████████████████████████████████████████████| 6/6 [01:08<00:00, 11.39s/it]\n",
      "100%|████████████████████████████████████████████████████████████████████████████████████| 6/6 [00:21<00:00,  3.65s/it]\n"
     ]
    },
    {
     "name": "stdout",
     "output_type": "stream",
     "text": [
      "121-th round\n",
      "average train loss 0.00027 | test loss 1.29 | test acc: 0.711\n"
     ]
    },
    {
     "name": "stderr",
     "output_type": "stream",
     "text": [
      "100%|████████████████████████████████████████████████████████████████████████████████████| 6/6 [01:54<00:00, 19.13s/it]\n",
      "100%|████████████████████████████████████████████████████████████████████████████████████| 6/6 [00:22<00:00,  3.74s/it]\n"
     ]
    },
    {
     "name": "stdout",
     "output_type": "stream",
     "text": [
      "122-th round\n",
      "average train loss 0.00475 | test loss 0.92 | test acc: 0.763\n"
     ]
    },
    {
     "name": "stderr",
     "output_type": "stream",
     "text": [
      "100%|████████████████████████████████████████████████████████████████████████████████████| 6/6 [01:34<00:00, 15.83s/it]\n",
      "100%|████████████████████████████████████████████████████████████████████████████████████| 6/6 [00:22<00:00,  3.74s/it]\n"
     ]
    },
    {
     "name": "stdout",
     "output_type": "stream",
     "text": [
      "123-th round\n",
      "average train loss 0.000575 | test loss 0.956 | test acc: 0.749\n"
     ]
    },
    {
     "name": "stderr",
     "output_type": "stream",
     "text": [
      "100%|████████████████████████████████████████████████████████████████████████████████████| 6/6 [01:31<00:00, 15.24s/it]\n",
      "100%|████████████████████████████████████████████████████████████████████████████████████| 6/6 [00:22<00:00,  3.79s/it]\n"
     ]
    },
    {
     "name": "stdout",
     "output_type": "stream",
     "text": [
      "124-th round\n",
      "average train loss 0.000476 | test loss 1.25 | test acc: 0.718\n"
     ]
    },
    {
     "name": "stderr",
     "output_type": "stream",
     "text": [
      "100%|████████████████████████████████████████████████████████████████████████████████████| 6/6 [01:40<00:00, 16.80s/it]\n",
      "100%|████████████████████████████████████████████████████████████████████████████████████| 6/6 [00:22<00:00,  3.79s/it]\n"
     ]
    },
    {
     "name": "stdout",
     "output_type": "stream",
     "text": [
      "125-th round\n",
      "average train loss 0.00032 | test loss 0.919 | test acc: 0.759\n"
     ]
    },
    {
     "name": "stderr",
     "output_type": "stream",
     "text": [
      "100%|████████████████████████████████████████████████████████████████████████████████████| 6/6 [01:28<00:00, 14.75s/it]\n",
      "100%|████████████████████████████████████████████████████████████████████████████████████| 6/6 [00:22<00:00,  3.72s/it]\n"
     ]
    },
    {
     "name": "stdout",
     "output_type": "stream",
     "text": [
      "126-th round\n",
      "average train loss 0.00827 | test loss 1.03 | test acc: 0.743\n"
     ]
    },
    {
     "name": "stderr",
     "output_type": "stream",
     "text": [
      "100%|████████████████████████████████████████████████████████████████████████████████████| 6/6 [01:31<00:00, 15.30s/it]\n",
      "100%|████████████████████████████████████████████████████████████████████████████████████| 6/6 [00:22<00:00,  3.68s/it]\n"
     ]
    },
    {
     "name": "stdout",
     "output_type": "stream",
     "text": [
      "127-th round\n",
      "average train loss 0.00145 | test loss 0.866 | test acc: 0.770\n"
     ]
    },
    {
     "name": "stderr",
     "output_type": "stream",
     "text": [
      "100%|████████████████████████████████████████████████████████████████████████████████████| 6/6 [01:58<00:00, 19.78s/it]\n",
      "100%|████████████████████████████████████████████████████████████████████████████████████| 6/6 [00:21<00:00,  3.64s/it]\n"
     ]
    },
    {
     "name": "stdout",
     "output_type": "stream",
     "text": [
      "128-th round\n",
      "average train loss 0.000283 | test loss 0.974 | test acc: 0.751\n"
     ]
    },
    {
     "name": "stderr",
     "output_type": "stream",
     "text": [
      "100%|████████████████████████████████████████████████████████████████████████████████████| 6/6 [01:35<00:00, 15.89s/it]\n",
      "100%|████████████████████████████████████████████████████████████████████████████████████| 6/6 [00:22<00:00,  3.70s/it]\n"
     ]
    },
    {
     "name": "stdout",
     "output_type": "stream",
     "text": [
      "129-th round\n",
      "average train loss 0.000601 | test loss 1.12 | test acc: 0.735\n"
     ]
    },
    {
     "name": "stderr",
     "output_type": "stream",
     "text": [
      "100%|████████████████████████████████████████████████████████████████████████████████████| 6/6 [01:09<00:00, 11.51s/it]\n",
      "100%|████████████████████████████████████████████████████████████████████████████████████| 6/6 [00:22<00:00,  3.74s/it]\n"
     ]
    },
    {
     "name": "stdout",
     "output_type": "stream",
     "text": [
      "130-th round\n",
      "average train loss 0.000563 | test loss 1.09 | test acc: 0.732\n"
     ]
    },
    {
     "name": "stderr",
     "output_type": "stream",
     "text": [
      "100%|████████████████████████████████████████████████████████████████████████████████████| 6/6 [01:10<00:00, 11.77s/it]\n",
      "100%|████████████████████████████████████████████████████████████████████████████████████| 6/6 [00:22<00:00,  3.76s/it]\n"
     ]
    },
    {
     "name": "stdout",
     "output_type": "stream",
     "text": [
      "131-th round\n",
      "average train loss 0.000323 | test loss 0.955 | test acc: 0.754\n"
     ]
    },
    {
     "name": "stderr",
     "output_type": "stream",
     "text": [
      "100%|████████████████████████████████████████████████████████████████████████████████████| 6/6 [01:18<00:00, 13.16s/it]\n",
      "100%|████████████████████████████████████████████████████████████████████████████████████| 6/6 [00:23<00:00,  3.84s/it]\n"
     ]
    },
    {
     "name": "stdout",
     "output_type": "stream",
     "text": [
      "132-th round\n",
      "average train loss 8.17e-05 | test loss 1.01 | test acc: 0.755\n"
     ]
    },
    {
     "name": "stderr",
     "output_type": "stream",
     "text": [
      "100%|████████████████████████████████████████████████████████████████████████████████████| 6/6 [01:06<00:00, 11.08s/it]\n",
      "100%|████████████████████████████████████████████████████████████████████████████████████| 6/6 [00:23<00:00,  3.97s/it]\n"
     ]
    },
    {
     "name": "stdout",
     "output_type": "stream",
     "text": [
      "133-th round\n",
      "average train loss 0.00057 | test loss 0.884 | test acc: 0.762\n"
     ]
    },
    {
     "name": "stderr",
     "output_type": "stream",
     "text": [
      "100%|████████████████████████████████████████████████████████████████████████████████████| 6/6 [01:48<00:00, 18.07s/it]\n",
      "100%|████████████████████████████████████████████████████████████████████████████████████| 6/6 [00:23<00:00,  3.84s/it]\n"
     ]
    },
    {
     "name": "stdout",
     "output_type": "stream",
     "text": [
      "134-th round\n",
      "average train loss 0.00288 | test loss 0.907 | test acc: 0.767\n"
     ]
    },
    {
     "name": "stderr",
     "output_type": "stream",
     "text": [
      "100%|████████████████████████████████████████████████████████████████████████████████████| 6/6 [01:54<00:00, 19.02s/it]\n",
      "100%|████████████████████████████████████████████████████████████████████████████████████| 6/6 [00:22<00:00,  3.71s/it]\n"
     ]
    },
    {
     "name": "stdout",
     "output_type": "stream",
     "text": [
      "135-th round\n",
      "average train loss 0.000167 | test loss 0.874 | test acc: 0.773\n"
     ]
    },
    {
     "name": "stderr",
     "output_type": "stream",
     "text": [
      "100%|████████████████████████████████████████████████████████████████████████████████████| 6/6 [01:23<00:00, 13.87s/it]\n",
      "100%|████████████████████████████████████████████████████████████████████████████████████| 6/6 [00:22<00:00,  3.72s/it]\n"
     ]
    },
    {
     "name": "stdout",
     "output_type": "stream",
     "text": [
      "136-th round\n",
      "average train loss 0.000266 | test loss 0.976 | test acc: 0.754\n"
     ]
    },
    {
     "name": "stderr",
     "output_type": "stream",
     "text": [
      "100%|████████████████████████████████████████████████████████████████████████████████████| 6/6 [01:30<00:00, 15.04s/it]\n",
      "100%|████████████████████████████████████████████████████████████████████████████████████| 6/6 [00:21<00:00,  3.66s/it]\n"
     ]
    },
    {
     "name": "stdout",
     "output_type": "stream",
     "text": [
      "137-th round\n",
      "average train loss 0.00146 | test loss 0.995 | test acc: 0.760\n"
     ]
    },
    {
     "name": "stderr",
     "output_type": "stream",
     "text": [
      "100%|████████████████████████████████████████████████████████████████████████████████████| 6/6 [01:27<00:00, 14.59s/it]\n",
      "100%|████████████████████████████████████████████████████████████████████████████████████| 6/6 [00:22<00:00,  3.70s/it]\n"
     ]
    },
    {
     "name": "stdout",
     "output_type": "stream",
     "text": [
      "138-th round\n",
      "average train loss 0.000335 | test loss 1.06 | test acc: 0.746\n"
     ]
    },
    {
     "name": "stderr",
     "output_type": "stream",
     "text": [
      "100%|████████████████████████████████████████████████████████████████████████████████████| 6/6 [01:01<00:00, 10.26s/it]\n",
      "100%|████████████████████████████████████████████████████████████████████████████████████| 6/6 [00:22<00:00,  3.82s/it]\n"
     ]
    },
    {
     "name": "stdout",
     "output_type": "stream",
     "text": [
      "139-th round\n",
      "average train loss 0.000518 | test loss 1.31 | test acc: 0.720\n"
     ]
    },
    {
     "name": "stderr",
     "output_type": "stream",
     "text": [
      "100%|████████████████████████████████████████████████████████████████████████████████████| 6/6 [01:16<00:00, 12.73s/it]\n",
      "100%|████████████████████████████████████████████████████████████████████████████████████| 6/6 [00:22<00:00,  3.69s/it]\n"
     ]
    },
    {
     "name": "stdout",
     "output_type": "stream",
     "text": [
      "140-th round\n",
      "average train loss 0.00081 | test loss 1.06 | test acc: 0.729\n"
     ]
    },
    {
     "name": "stderr",
     "output_type": "stream",
     "text": [
      "100%|████████████████████████████████████████████████████████████████████████████████████| 6/6 [01:11<00:00, 11.98s/it]\n",
      "100%|████████████████████████████████████████████████████████████████████████████████████| 6/6 [00:22<00:00,  3.67s/it]\n"
     ]
    },
    {
     "name": "stdout",
     "output_type": "stream",
     "text": [
      "141-th round\n",
      "average train loss 0.0952 | test loss 1.1 | test acc: 0.730\n"
     ]
    },
    {
     "name": "stderr",
     "output_type": "stream",
     "text": [
      "100%|████████████████████████████████████████████████████████████████████████████████████| 6/6 [01:08<00:00, 11.36s/it]\n",
      "100%|████████████████████████████████████████████████████████████████████████████████████| 6/6 [00:22<00:00,  3.73s/it]\n"
     ]
    },
    {
     "name": "stdout",
     "output_type": "stream",
     "text": [
      "142-th round\n",
      "average train loss 0.00708 | test loss 1.28 | test acc: 0.689\n"
     ]
    },
    {
     "name": "stderr",
     "output_type": "stream",
     "text": [
      "100%|████████████████████████████████████████████████████████████████████████████████████| 6/6 [01:20<00:00, 13.35s/it]\n",
      "100%|████████████████████████████████████████████████████████████████████████████████████| 6/6 [00:22<00:00,  3.70s/it]\n"
     ]
    },
    {
     "name": "stdout",
     "output_type": "stream",
     "text": [
      "143-th round\n",
      "average train loss 0.000207 | test loss 0.994 | test acc: 0.746\n"
     ]
    },
    {
     "name": "stderr",
     "output_type": "stream",
     "text": [
      "100%|████████████████████████████████████████████████████████████████████████████████████| 6/6 [00:37<00:00,  6.30s/it]\n",
      "100%|████████████████████████████████████████████████████████████████████████████████████| 6/6 [00:22<00:00,  3.71s/it]\n"
     ]
    },
    {
     "name": "stdout",
     "output_type": "stream",
     "text": [
      "144-th round\n",
      "average train loss 0.000337 | test loss 1.03 | test acc: 0.735\n"
     ]
    },
    {
     "name": "stderr",
     "output_type": "stream",
     "text": [
      "100%|████████████████████████████████████████████████████████████████████████████████████| 6/6 [01:05<00:00, 10.84s/it]\n",
      "100%|████████████████████████████████████████████████████████████████████████████████████| 6/6 [00:22<00:00,  3.71s/it]\n"
     ]
    },
    {
     "name": "stdout",
     "output_type": "stream",
     "text": [
      "145-th round\n",
      "average train loss 0.00294 | test loss 1.11 | test acc: 0.729\n"
     ]
    },
    {
     "name": "stderr",
     "output_type": "stream",
     "text": [
      "100%|████████████████████████████████████████████████████████████████████████████████████| 6/6 [01:34<00:00, 15.73s/it]\n",
      "100%|████████████████████████████████████████████████████████████████████████████████████| 6/6 [00:22<00:00,  3.67s/it]\n"
     ]
    },
    {
     "name": "stdout",
     "output_type": "stream",
     "text": [
      "146-th round\n",
      "average train loss 0.000239 | test loss 1.16 | test acc: 0.727\n"
     ]
    },
    {
     "name": "stderr",
     "output_type": "stream",
     "text": [
      "100%|████████████████████████████████████████████████████████████████████████████████████| 6/6 [01:45<00:00, 17.57s/it]\n",
      "100%|████████████████████████████████████████████████████████████████████████████████████| 6/6 [00:22<00:00,  3.70s/it]\n"
     ]
    },
    {
     "name": "stdout",
     "output_type": "stream",
     "text": [
      "147-th round\n",
      "average train loss 0.000573 | test loss 1.53 | test acc: 0.672\n"
     ]
    },
    {
     "name": "stderr",
     "output_type": "stream",
     "text": [
      "100%|████████████████████████████████████████████████████████████████████████████████████| 6/6 [01:22<00:00, 13.69s/it]\n",
      "100%|████████████████████████████████████████████████████████████████████████████████████| 6/6 [00:22<00:00,  3.75s/it]\n"
     ]
    },
    {
     "name": "stdout",
     "output_type": "stream",
     "text": [
      "148-th round\n",
      "average train loss 0.0142 | test loss 0.986 | test acc: 0.736\n"
     ]
    },
    {
     "name": "stderr",
     "output_type": "stream",
     "text": [
      "100%|████████████████████████████████████████████████████████████████████████████████████| 6/6 [01:30<00:00, 15.06s/it]\n",
      "100%|████████████████████████████████████████████████████████████████████████████████████| 6/6 [00:21<00:00,  3.63s/it]\n"
     ]
    },
    {
     "name": "stdout",
     "output_type": "stream",
     "text": [
      "149-th round\n",
      "average train loss 0.0202 | test loss 1.22 | test acc: 0.703\n"
     ]
    }
   ],
   "source": [
    "losses_train = []\n",
    "losses_test = []\n",
    "acc_test = []\n",
    "losses_retrain=[]\n",
    "\n",
    "# Runnining FL\n",
    "for r in range(num_rounds):    #Communication round\n",
    "    # select random clients\n",
    "    client_idx = np.random.permutation(num_clients)[:num_selected]\n",
    "    client_lens = [len(train_loader[idx]) for idx in client_idx]\n",
    "\n",
    "    # client update\n",
    "    loss = 0\n",
    "    for i in tqdm(range(num_selected)):\n",
    "      client_syn(client_models[i], global_model)\n",
    "      loss += client_update(client_models[i], opt[i], train_loader[client_idx[i]], epochs)\n",
    "    losses_train.append(loss)\n",
    "\n",
    "    # server aggregate\n",
    "    #### retraining on the global server\n",
    "    loss_retrain =0\n",
    "    for i in tqdm(range(num_selected)):\n",
    "      loss_retrain+= client_update(client_models[i], opt[i], loader_fixed, epoch=retrain_epochs)\n",
    "    losses_retrain.append(loss_retrain)\n",
    "    \n",
    "    ### Aggregating the models\n",
    "    server_aggregate(global_model, client_models,client_lens)\n",
    "    test_loss, acc = test(global_model, test_loader)\n",
    "    losses_test.append(test_loss)\n",
    "    acc_test.append(acc)\n",
    "    print('%d-th round' % r)\n",
    "    print('average train loss %0.3g | test loss %0.3g | test acc: %0.3f' % (loss_retrain / num_selected, test_loss, acc))\n"
   ]
  },
  {
   "cell_type": "code",
   "execution_count": null,
   "id": "87d292c1-06f2-4776-8967-55c82c8a0f25",
   "metadata": {},
   "outputs": [],
   "source": []
  }
 ],
 "metadata": {
  "kernelspec": {
   "display_name": "Python 3 (ipykernel)",
   "language": "python",
   "name": "python3"
  },
  "language_info": {
   "codemirror_mode": {
    "name": "ipython",
    "version": 3
   },
   "file_extension": ".py",
   "mimetype": "text/x-python",
   "name": "python",
   "nbconvert_exporter": "python",
   "pygments_lexer": "ipython3",
   "version": "3.11.9"
  }
 },
 "nbformat": 4,
 "nbformat_minor": 5
}
